{
 "cells": [
  {
   "cell_type": "markdown",
   "metadata": {},
   "source": [
    "# Stock Price Vs Stock Google Searches"
   ]
  },
  {
   "cell_type": "markdown",
   "metadata": {},
   "source": [
    "## Introduction:\n",
    "\n",
    "This notebook is to explore the relation that search interest in a stock ticker has to do with the historical information for that stock. The data will be taken from historical stock data provided from Yahoo Finance and from search interest data gathered from Google Trends. For the purposes of this project I will only be looking at the level of search interest by observing the level of searches for the stocks ticker symbol. I will explore whether there is correlation between the absolute percent change in the stock and search interest in a stock. I will aslo explore whether there is correlation between stock trading volume and search interest in a stock. Data for the last 5 years is gathered to get the most accurate results."
   ]
  },
  {
   "cell_type": "markdown",
   "metadata": {},
   "source": [
    "#### Imports:"
   ]
  },
  {
   "cell_type": "code",
   "execution_count": 1,
   "metadata": {},
   "outputs": [],
   "source": [
    "# To use dataframes & view csv file from google\n",
    "import pandas as pd\n",
    "from pandas import Series, DataFrame\n",
    "import numpy as np\n",
    "\n",
    "# To visualize data\n",
    "import matplotlib.pyplot as plt\n",
    "import seaborn as sns\n",
    "sns.set_style('whitegrid')\n",
    "%matplotlib inline\n",
    "\n",
    "from datetime import datetime\n",
    "\n",
    "# To get data from yahoo\n",
    "import pandas_datareader as pdr\n",
    "\n",
    "# To get search data from google\n",
    "import pytrends\n",
    "from pytrends.request import TrendReq\n",
    "\n",
    "# To find linear regression equation\n",
    "import statsmodels.formula.api as sm"
   ]
  },
  {
   "cell_type": "markdown",
   "metadata": {},
   "source": [
    "#### Retrieving data from Yahoo Finance:"
   ]
  },
  {
   "cell_type": "markdown",
   "metadata": {},
   "source": [
    "Retrieved 5 year daily historical stock data from Yahoo."
   ]
  },
  {
   "cell_type": "code",
   "execution_count": 2,
   "metadata": {},
   "outputs": [],
   "source": [
    "stock_list = ['PRPL','TSLA','GOOG']\n",
    "\n",
    "end = datetime.now()\n",
    "start = datetime(end.year - 5,end.month,end.day)\n",
    "\n",
    "# Retrieve the data. Each stock historical data stored under dataframe object named under stock ticker\n",
    "for stock in stock_list:\n",
    "    globals()[stock] = pdr.get_data_yahoo(stock,start,end)"
   ]
  },
  {
   "cell_type": "markdown",
   "metadata": {},
   "source": [
    "#### Viewing Stock Data"
   ]
  },
  {
   "cell_type": "code",
   "execution_count": 3,
   "metadata": {},
   "outputs": [
    {
     "data": {
      "text/html": [
       "<div>\n",
       "<style scoped>\n",
       "    .dataframe tbody tr th:only-of-type {\n",
       "        vertical-align: middle;\n",
       "    }\n",
       "\n",
       "    .dataframe tbody tr th {\n",
       "        vertical-align: top;\n",
       "    }\n",
       "\n",
       "    .dataframe thead th {\n",
       "        text-align: right;\n",
       "    }\n",
       "</style>\n",
       "<table border=\"1\" class=\"dataframe\">\n",
       "  <thead>\n",
       "    <tr style=\"text-align: right;\">\n",
       "      <th></th>\n",
       "      <th>High</th>\n",
       "      <th>Low</th>\n",
       "      <th>Open</th>\n",
       "      <th>Close</th>\n",
       "      <th>Volume</th>\n",
       "      <th>Adj Close</th>\n",
       "    </tr>\n",
       "    <tr>\n",
       "      <th>Date</th>\n",
       "      <th></th>\n",
       "      <th></th>\n",
       "      <th></th>\n",
       "      <th></th>\n",
       "      <th></th>\n",
       "      <th></th>\n",
       "    </tr>\n",
       "  </thead>\n",
       "  <tbody>\n",
       "    <tr>\n",
       "      <th>2016-01-04</th>\n",
       "      <td>9.79</td>\n",
       "      <td>9.56</td>\n",
       "      <td>9.62</td>\n",
       "      <td>9.66</td>\n",
       "      <td>10700</td>\n",
       "      <td>9.66</td>\n",
       "    </tr>\n",
       "    <tr>\n",
       "      <th>2016-01-05</th>\n",
       "      <td>9.66</td>\n",
       "      <td>9.66</td>\n",
       "      <td>9.66</td>\n",
       "      <td>9.66</td>\n",
       "      <td>0</td>\n",
       "      <td>9.66</td>\n",
       "    </tr>\n",
       "    <tr>\n",
       "      <th>2016-01-06</th>\n",
       "      <td>9.66</td>\n",
       "      <td>9.66</td>\n",
       "      <td>9.66</td>\n",
       "      <td>9.66</td>\n",
       "      <td>0</td>\n",
       "      <td>9.66</td>\n",
       "    </tr>\n",
       "    <tr>\n",
       "      <th>2016-01-07</th>\n",
       "      <td>9.66</td>\n",
       "      <td>9.66</td>\n",
       "      <td>9.66</td>\n",
       "      <td>9.66</td>\n",
       "      <td>0</td>\n",
       "      <td>9.66</td>\n",
       "    </tr>\n",
       "    <tr>\n",
       "      <th>2016-01-08</th>\n",
       "      <td>9.66</td>\n",
       "      <td>9.66</td>\n",
       "      <td>9.66</td>\n",
       "      <td>9.66</td>\n",
       "      <td>0</td>\n",
       "      <td>9.66</td>\n",
       "    </tr>\n",
       "  </tbody>\n",
       "</table>\n",
       "</div>"
      ],
      "text/plain": [
       "            High   Low  Open  Close  Volume  Adj Close\n",
       "Date                                                  \n",
       "2016-01-04  9.79  9.56  9.62   9.66   10700       9.66\n",
       "2016-01-05  9.66  9.66  9.66   9.66       0       9.66\n",
       "2016-01-06  9.66  9.66  9.66   9.66       0       9.66\n",
       "2016-01-07  9.66  9.66  9.66   9.66       0       9.66\n",
       "2016-01-08  9.66  9.66  9.66   9.66       0       9.66"
      ]
     },
     "execution_count": 3,
     "metadata": {},
     "output_type": "execute_result"
    }
   ],
   "source": [
    "PRPL.head()"
   ]
  },
  {
   "cell_type": "markdown",
   "metadata": {},
   "source": [
    "#### Plotting Stock Closing Price Over Time:"
   ]
  },
  {
   "cell_type": "code",
   "execution_count": 4,
   "metadata": {},
   "outputs": [
    {
     "data": {
      "text/plain": [
       "Text(0, 0.5, 'Closing Price')"
      ]
     },
     "execution_count": 4,
     "metadata": {},
     "output_type": "execute_result"
    },
    {
     "data": {
      "image/png": "[encoded data removed]",
      "text/plain": [
       "<Figure size 432x288 with 1 Axes>"
      ]
     },
     "metadata": {
      "needs_background": "light"
     },
     "output_type": "display_data"
    }
   ],
   "source": [
    "PRPL['Close'].plot(color = ('purple'))\n",
    "plt.xlabel('Date')\n",
    "plt.ylabel('Closing Price')"
   ]
  },
  {
   "cell_type": "markdown",
   "metadata": {},
   "source": [
    "#### Function to convert daily stock data to weekly:"
   ]
  },
  {
   "cell_type": "markdown",
   "metadata": {},
   "source": [
    "Function created to easily convert daily stock data to weekly. This data needed to be in weekly form to be consistent with the data pulled from google trends. This makes the concatination of the two dataframes simple and easy. All of the stock data was converted to weekly information, something to note is that the \"Open\" column now contained the stock price on the first day of the week, the \"Close\" and \"Adj Close\" columns now contained the closing stock price for the end of the week. The Volume was a sum of all of the stock trading volume for each day in the week. The weekly data reads exactly the same as it would if you where to look at Yahoo Finance and set it historical stock data to weekly with one exception. The date index must be set to Sunday for each week. Traditionally the date representing the week would be a Wednsday but this had to be changed to remain a consistent date index for the google trends data. None of the data is different, each row would just be for \"The Week of Sunday the X\" instead of \"The Week of Wednsday the X\"."
   ]
  },
  {
   "cell_type": "code",
   "execution_count": 5,
   "metadata": {},
   "outputs": [],
   "source": [
    "def convert_to_weekly(df):\n",
    "    \n",
    "    # Resample all of the data to convert data to weekly\n",
    "    output = df.resample('W',loffset=pd.offsets.timedelta(days=-7)).apply(\n",
    "        {'Open': 'first',\n",
    "         'High': 'max',\n",
    "         'Low': 'min',\n",
    "         'Close': 'last',\n",
    "         'Volume': 'sum',\n",
    "         'Adj Close': 'last'})\n",
    "    \n",
    "    # Output of the new dataframes\n",
    "    output = output[['Open', 'High', 'Low', 'Close', 'Volume','Adj Close']]\n",
    "    df =  output\n",
    "    return df"
   ]
  },
  {
   "cell_type": "markdown",
   "metadata": {},
   "source": [
    "#### Using function on Stock Data:"
   ]
  },
  {
   "cell_type": "code",
   "execution_count": 6,
   "metadata": {},
   "outputs": [],
   "source": [
    "PRPL = convert_to_weekly(PRPL)\n",
    "TSLA = convert_to_weekly(TSLA)\n",
    "GOOG = convert_to_weekly(GOOG)"
   ]
  },
  {
   "cell_type": "markdown",
   "metadata": {},
   "source": [
    "#### Viewing converted stock data:"
   ]
  },
  {
   "cell_type": "code",
   "execution_count": 7,
   "metadata": {},
   "outputs": [
    {
     "data": {
      "text/html": [
       "<div>\n",
       "<style scoped>\n",
       "    .dataframe tbody tr th:only-of-type {\n",
       "        vertical-align: middle;\n",
       "    }\n",
       "\n",
       "    .dataframe tbody tr th {\n",
       "        vertical-align: top;\n",
       "    }\n",
       "\n",
       "    .dataframe thead th {\n",
       "        text-align: right;\n",
       "    }\n",
       "</style>\n",
       "<table border=\"1\" class=\"dataframe\">\n",
       "  <thead>\n",
       "    <tr style=\"text-align: right;\">\n",
       "      <th></th>\n",
       "      <th>Open</th>\n",
       "      <th>High</th>\n",
       "      <th>Low</th>\n",
       "      <th>Close</th>\n",
       "      <th>Volume</th>\n",
       "      <th>Adj Close</th>\n",
       "    </tr>\n",
       "    <tr>\n",
       "      <th>Date</th>\n",
       "      <th></th>\n",
       "      <th></th>\n",
       "      <th></th>\n",
       "      <th></th>\n",
       "      <th></th>\n",
       "      <th></th>\n",
       "    </tr>\n",
       "  </thead>\n",
       "  <tbody>\n",
       "    <tr>\n",
       "      <th>2016-01-03</th>\n",
       "      <td>743.000000</td>\n",
       "      <td>752.000000</td>\n",
       "      <td>713.000000</td>\n",
       "      <td>714.469971</td>\n",
       "      <td>12585100</td>\n",
       "      <td>714.469971</td>\n",
       "    </tr>\n",
       "    <tr>\n",
       "      <th>2016-01-10</th>\n",
       "      <td>716.609985</td>\n",
       "      <td>734.739990</td>\n",
       "      <td>685.369995</td>\n",
       "      <td>694.450012</td>\n",
       "      <td>12450700</td>\n",
       "      <td>694.450012</td>\n",
       "    </tr>\n",
       "    <tr>\n",
       "      <th>2016-01-17</th>\n",
       "      <td>703.299988</td>\n",
       "      <td>728.130005</td>\n",
       "      <td>673.260010</td>\n",
       "      <td>725.250000</td>\n",
       "      <td>10137100</td>\n",
       "      <td>725.250000</td>\n",
       "    </tr>\n",
       "    <tr>\n",
       "      <th>2016-01-24</th>\n",
       "      <td>723.580017</td>\n",
       "      <td>744.989990</td>\n",
       "      <td>694.390015</td>\n",
       "      <td>742.950012</td>\n",
       "      <td>11388300</td>\n",
       "      <td>742.950012</td>\n",
       "    </tr>\n",
       "    <tr>\n",
       "      <th>2016-01-31</th>\n",
       "      <td>750.460022</td>\n",
       "      <td>789.869995</td>\n",
       "      <td>680.150024</td>\n",
       "      <td>683.570007</td>\n",
       "      <td>27932700</td>\n",
       "      <td>683.570007</td>\n",
       "    </tr>\n",
       "  </tbody>\n",
       "</table>\n",
       "</div>"
      ],
      "text/plain": [
       "                  Open        High         Low       Close    Volume  \\\n",
       "Date                                                                   \n",
       "2016-01-03  743.000000  752.000000  713.000000  714.469971  12585100   \n",
       "2016-01-10  716.609985  734.739990  685.369995  694.450012  12450700   \n",
       "2016-01-17  703.299988  728.130005  673.260010  725.250000  10137100   \n",
       "2016-01-24  723.580017  744.989990  694.390015  742.950012  11388300   \n",
       "2016-01-31  750.460022  789.869995  680.150024  683.570007  27932700   \n",
       "\n",
       "             Adj Close  \n",
       "Date                    \n",
       "2016-01-03  714.469971  \n",
       "2016-01-10  694.450012  \n",
       "2016-01-17  725.250000  \n",
       "2016-01-24  742.950012  \n",
       "2016-01-31  683.570007  "
      ]
     },
     "execution_count": 7,
     "metadata": {},
     "output_type": "execute_result"
    }
   ],
   "source": [
    "GOOG.head()"
   ]
  },
  {
   "cell_type": "markdown",
   "metadata": {},
   "source": [
    "#### Retreiving data from Google Trends using pytrend"
   ]
  },
  {
   "cell_type": "markdown",
   "metadata": {},
   "source": [
    "The data for search interested was gathered using he pytrend library. The data gathered represents the search interest in a particular search. Here is the description for the data copied from Google Trends:\n",
    "\n",
    "Numbers represent search interest relative to the highest point on the chart for the given region and time. A value of 100 is the peak popularity for the term. A value of 50 means that the term is half as popular. A score of 0 means there was not enough data for this term."
   ]
  },
  {
   "cell_type": "code",
   "execution_count": 8,
   "metadata": {},
   "outputs": [],
   "source": [
    "pytrend = TrendReq()\n",
    "pytrend.build_payload(kw_list=['PRPL','Purple Stock','Purple Stock Price'],\n",
    "     cat=0,\n",
    "     timeframe= 'today 5-y')\n",
    "sPRPL = pytrend.interest_over_time()\n",
    "sPRPL = sPRPL.drop(columns = 'isPartial')"
   ]
  },
  {
   "cell_type": "code",
   "execution_count": 9,
   "metadata": {},
   "outputs": [],
   "source": [
    "pytrend = TrendReq()\n",
    "pytrend.build_payload(kw_list=['TSLA', 'Tesla Stock', 'Tesla Stock Price'],\n",
    "     cat=0,\n",
    "     timeframe= 'today 5-y')\n",
    "sTSLA = pytrend.interest_over_time()\n",
    "sTSLA = sTSLA.drop(columns = 'isPartial')"
   ]
  },
  {
   "cell_type": "code",
   "execution_count": 10,
   "metadata": {},
   "outputs": [],
   "source": [
    "pytrend = TrendReq()\n",
    "pytrend.build_payload(kw_list=['GOOG','Google Stock','Google Stock Price'],\n",
    "     cat=0,\n",
    "     timeframe= 'today 5-y')\n",
    "sGOOG = pytrend.interest_over_time()\n",
    "sGOOG = sGOOG.drop(columns = 'isPartial')"
   ]
  },
  {
   "cell_type": "markdown",
   "metadata": {},
   "source": [
    "#### Plotting search interest data:"
   ]
  },
  {
   "cell_type": "code",
   "execution_count": 11,
   "metadata": {},
   "outputs": [
    {
     "data": {
      "text/plain": [
       "Text(0, 0.5, 'Ticker Search Interest')"
      ]
     },
     "execution_count": 11,
     "metadata": {},
     "output_type": "execute_result"
    },
    {
     "data": {
      "image/png": "[encoded data removed]",
      "text/plain": [
       "<Figure size 432x288 with 1 Axes>"
      ]
     },
     "metadata": {
      "needs_background": "light"
     },
     "output_type": "display_data"
    }
   ],
   "source": [
    "sPRPL['PRPL'].plot(color=('purple'))\n",
    "plt.xlabel('Date')\n",
    "plt.ylabel('Ticker Search Interest')"
   ]
  },
  {
   "cell_type": "markdown",
   "metadata": {},
   "source": [
    "#### Concatinating the two dataframes into one:"
   ]
  },
  {
   "cell_type": "code",
   "execution_count": 12,
   "metadata": {},
   "outputs": [],
   "source": [
    "dfPRPL = pd.concat([PRPL,sPRPL],axis=1)\n",
    "dfTSLA = pd.concat([TSLA,sTSLA],axis=1)\n",
    "dfGOOG = pd.concat([GOOG,sGOOG],axis=1)"
   ]
  },
  {
   "cell_type": "markdown",
   "metadata": {},
   "source": [
    "#### Viewing new datatable:"
   ]
  },
  {
   "cell_type": "code",
   "execution_count": 13,
   "metadata": {},
   "outputs": [
    {
     "data": {
      "text/html": [
       "<div>\n",
       "<style scoped>\n",
       "    .dataframe tbody tr th:only-of-type {\n",
       "        vertical-align: middle;\n",
       "    }\n",
       "\n",
       "    .dataframe tbody tr th {\n",
       "        vertical-align: top;\n",
       "    }\n",
       "\n",
       "    .dataframe thead th {\n",
       "        text-align: right;\n",
       "    }\n",
       "</style>\n",
       "<table border=\"1\" class=\"dataframe\">\n",
       "  <thead>\n",
       "    <tr style=\"text-align: right;\">\n",
       "      <th></th>\n",
       "      <th>Open</th>\n",
       "      <th>High</th>\n",
       "      <th>Low</th>\n",
       "      <th>Close</th>\n",
       "      <th>Volume</th>\n",
       "      <th>Adj Close</th>\n",
       "      <th>PRPL</th>\n",
       "      <th>Purple Stock</th>\n",
       "      <th>Purple Stock Price</th>\n",
       "    </tr>\n",
       "  </thead>\n",
       "  <tbody>\n",
       "    <tr>\n",
       "      <th>2016-01-03</th>\n",
       "      <td>9.62</td>\n",
       "      <td>9.79</td>\n",
       "      <td>9.56</td>\n",
       "      <td>9.66</td>\n",
       "      <td>10700</td>\n",
       "      <td>9.66</td>\n",
       "      <td>1</td>\n",
       "      <td>3</td>\n",
       "      <td>1</td>\n",
       "    </tr>\n",
       "    <tr>\n",
       "      <th>2016-01-10</th>\n",
       "      <td>9.66</td>\n",
       "      <td>9.70</td>\n",
       "      <td>9.56</td>\n",
       "      <td>9.56</td>\n",
       "      <td>778300</td>\n",
       "      <td>9.56</td>\n",
       "      <td>0</td>\n",
       "      <td>3</td>\n",
       "      <td>0</td>\n",
       "    </tr>\n",
       "    <tr>\n",
       "      <th>2016-01-17</th>\n",
       "      <td>9.56</td>\n",
       "      <td>9.71</td>\n",
       "      <td>9.56</td>\n",
       "      <td>9.71</td>\n",
       "      <td>5000</td>\n",
       "      <td>9.71</td>\n",
       "      <td>2</td>\n",
       "      <td>3</td>\n",
       "      <td>0</td>\n",
       "    </tr>\n",
       "    <tr>\n",
       "      <th>2016-01-24</th>\n",
       "      <td>9.70</td>\n",
       "      <td>10.00</td>\n",
       "      <td>9.70</td>\n",
       "      <td>9.82</td>\n",
       "      <td>2300</td>\n",
       "      <td>9.82</td>\n",
       "      <td>0</td>\n",
       "      <td>3</td>\n",
       "      <td>0</td>\n",
       "    </tr>\n",
       "    <tr>\n",
       "      <th>2016-01-31</th>\n",
       "      <td>9.82</td>\n",
       "      <td>9.82</td>\n",
       "      <td>9.82</td>\n",
       "      <td>9.82</td>\n",
       "      <td>0</td>\n",
       "      <td>9.82</td>\n",
       "      <td>0</td>\n",
       "      <td>7</td>\n",
       "      <td>0</td>\n",
       "    </tr>\n",
       "  </tbody>\n",
       "</table>\n",
       "</div>"
      ],
      "text/plain": [
       "            Open   High   Low  Close  Volume  Adj Close  PRPL  Purple Stock  \\\n",
       "2016-01-03  9.62   9.79  9.56   9.66   10700       9.66     1             3   \n",
       "2016-01-10  9.66   9.70  9.56   9.56  778300       9.56     0             3   \n",
       "2016-01-17  9.56   9.71  9.56   9.71    5000       9.71     2             3   \n",
       "2016-01-24  9.70  10.00  9.70   9.82    2300       9.82     0             3   \n",
       "2016-01-31  9.82   9.82  9.82   9.82       0       9.82     0             7   \n",
       "\n",
       "            Purple Stock Price  \n",
       "2016-01-03                   1  \n",
       "2016-01-10                   0  \n",
       "2016-01-17                   0  \n",
       "2016-01-24                   0  \n",
       "2016-01-31                   0  "
      ]
     },
     "execution_count": 13,
     "metadata": {},
     "output_type": "execute_result"
    }
   ],
   "source": [
    "dfPRPL.head()"
   ]
  },
  {
   "cell_type": "code",
   "execution_count": 14,
   "metadata": {},
   "outputs": [],
   "source": [
    "dfPRPL['Return'] = dfPRPL['Adj Close'].pct_change()\n",
    "dfPRPL['Absolute_Pct_Change'] = dfPRPL['Return'].abs()\n",
    "\n",
    "dfTSLA['Return'] = dfTSLA['Adj Close'].pct_change()\n",
    "dfTSLA['Absolute_Pct_Change'] = dfTSLA['Return'].abs()\n",
    "\n",
    "dfGOOG['Return'] = dfGOOG['Adj Close'].pct_change()\n",
    "dfGOOG['Absolute_Pct_Change'] = dfGOOG['Return'].abs()\n",
    "\n",
    "dfPRPL = dfPRPL.dropna()\n",
    "dfTSLA = dfTSLA.dropna()\n",
    "dfGOOG = dfGOOG.dropna()\n",
    "\n",
    "dfPRPL['Average_Search_Interest'] = ((dfPRPL['PRPL'] + dfPRPL['Purple Stock'] + dfPRPL['Purple Stock Price'])/3)\n",
    "dfTSLA['Average_Search_Interest'] = ((dfTSLA['TSLA'] + dfTSLA['Tesla Stock'] + dfTSLA['Tesla Stock Price'])/3)\n",
    "dfGOOG['Average_Search_Interest'] = ((dfGOOG['GOOG'] + dfGOOG['Google Stock'] + dfGOOG['Google Stock Price'])/3)"
   ]
  },
  {
   "cell_type": "code",
   "execution_count": 15,
   "metadata": {},
   "outputs": [
    {
     "data": {
      "text/html": [
       "<div>\n",
       "<style scoped>\n",
       "    .dataframe tbody tr th:only-of-type {\n",
       "        vertical-align: middle;\n",
       "    }\n",
       "\n",
       "    .dataframe tbody tr th {\n",
       "        vertical-align: top;\n",
       "    }\n",
       "\n",
       "    .dataframe thead th {\n",
       "        text-align: right;\n",
       "    }\n",
       "</style>\n",
       "<table border=\"1\" class=\"dataframe\">\n",
       "  <thead>\n",
       "    <tr style=\"text-align: right;\">\n",
       "      <th></th>\n",
       "      <th>Open</th>\n",
       "      <th>High</th>\n",
       "      <th>Low</th>\n",
       "      <th>Close</th>\n",
       "      <th>Volume</th>\n",
       "      <th>Adj Close</th>\n",
       "      <th>GOOG</th>\n",
       "      <th>Google Stock</th>\n",
       "      <th>Google Stock Price</th>\n",
       "      <th>Return</th>\n",
       "      <th>AbsolutePctChange</th>\n",
       "      <th>Average_Search_Interest</th>\n",
       "    </tr>\n",
       "  </thead>\n",
       "  <tbody>\n",
       "    <tr>\n",
       "      <th>2016-01-10</th>\n",
       "      <td>716.609985</td>\n",
       "      <td>734.739990</td>\n",
       "      <td>685.369995</td>\n",
       "      <td>694.450012</td>\n",
       "      <td>12450700</td>\n",
       "      <td>694.450012</td>\n",
       "      <td>85</td>\n",
       "      <td>18</td>\n",
       "      <td>3</td>\n",
       "      <td>-0.028021</td>\n",
       "      <td>0.028021</td>\n",
       "      <td>35.333333</td>\n",
       "    </tr>\n",
       "    <tr>\n",
       "      <th>2016-01-17</th>\n",
       "      <td>703.299988</td>\n",
       "      <td>728.130005</td>\n",
       "      <td>673.260010</td>\n",
       "      <td>725.250000</td>\n",
       "      <td>10137100</td>\n",
       "      <td>725.250000</td>\n",
       "      <td>86</td>\n",
       "      <td>17</td>\n",
       "      <td>2</td>\n",
       "      <td>0.044352</td>\n",
       "      <td>0.044352</td>\n",
       "      <td>35.000000</td>\n",
       "    </tr>\n",
       "    <tr>\n",
       "      <th>2016-01-24</th>\n",
       "      <td>723.580017</td>\n",
       "      <td>744.989990</td>\n",
       "      <td>694.390015</td>\n",
       "      <td>742.950012</td>\n",
       "      <td>11388300</td>\n",
       "      <td>742.950012</td>\n",
       "      <td>90</td>\n",
       "      <td>18</td>\n",
       "      <td>3</td>\n",
       "      <td>0.024405</td>\n",
       "      <td>0.024405</td>\n",
       "      <td>37.000000</td>\n",
       "    </tr>\n",
       "    <tr>\n",
       "      <th>2016-01-31</th>\n",
       "      <td>750.460022</td>\n",
       "      <td>789.869995</td>\n",
       "      <td>680.150024</td>\n",
       "      <td>683.570007</td>\n",
       "      <td>27932700</td>\n",
       "      <td>683.570007</td>\n",
       "      <td>100</td>\n",
       "      <td>25</td>\n",
       "      <td>5</td>\n",
       "      <td>-0.079925</td>\n",
       "      <td>0.079925</td>\n",
       "      <td>43.333333</td>\n",
       "    </tr>\n",
       "    <tr>\n",
       "      <th>2016-02-07</th>\n",
       "      <td>667.849976</td>\n",
       "      <td>701.309998</td>\n",
       "      <td>663.059998</td>\n",
       "      <td>682.400024</td>\n",
       "      <td>15659700</td>\n",
       "      <td>682.400024</td>\n",
       "      <td>89</td>\n",
       "      <td>19</td>\n",
       "      <td>3</td>\n",
       "      <td>-0.001712</td>\n",
       "      <td>0.001712</td>\n",
       "      <td>37.000000</td>\n",
       "    </tr>\n",
       "  </tbody>\n",
       "</table>\n",
       "</div>"
      ],
      "text/plain": [
       "                  Open        High         Low       Close    Volume  \\\n",
       "2016-01-10  716.609985  734.739990  685.369995  694.450012  12450700   \n",
       "2016-01-17  703.299988  728.130005  673.260010  725.250000  10137100   \n",
       "2016-01-24  723.580017  744.989990  694.390015  742.950012  11388300   \n",
       "2016-01-31  750.460022  789.869995  680.150024  683.570007  27932700   \n",
       "2016-02-07  667.849976  701.309998  663.059998  682.400024  15659700   \n",
       "\n",
       "             Adj Close  GOOG  Google Stock  Google Stock Price    Return  \\\n",
       "2016-01-10  694.450012    85            18                   3 -0.028021   \n",
       "2016-01-17  725.250000    86            17                   2  0.044352   \n",
       "2016-01-24  742.950012    90            18                   3  0.024405   \n",
       "2016-01-31  683.570007   100            25                   5 -0.079925   \n",
       "2016-02-07  682.400024    89            19                   3 -0.001712   \n",
       "\n",
       "            AbsolutePctChange  Average_Search_Interest  \n",
       "2016-01-10           0.028021                35.333333  \n",
       "2016-01-17           0.044352                35.000000  \n",
       "2016-01-24           0.024405                37.000000  \n",
       "2016-01-31           0.079925                43.333333  \n",
       "2016-02-07           0.001712                37.000000  "
      ]
     },
     "execution_count": 15,
     "metadata": {},
     "output_type": "execute_result"
    }
   ],
   "source": [
    "dfGOOG.head()"
   ]
  },
  {
   "cell_type": "markdown",
   "metadata": {},
   "source": [
    "#### Viewing regression plots for % change and search interest:"
   ]
  },
  {
   "cell_type": "code",
   "execution_count": 16,
   "metadata": {},
   "outputs": [
    {
     "data": {
      "text/plain": [
       "<matplotlib.axes._subplots.AxesSubplot at 0x22212a86d00>"
      ]
     },
     "execution_count": 16,
     "metadata": {},
     "output_type": "execute_result"
    },
    {
     "data": {
      "image/png": "[encoded data removed]",
      "text/plain": [
       "<Figure size 432x288 with 1 Axes>"
      ]
     },
     "metadata": {
      "needs_background": "light"
     },
     "output_type": "display_data"
    }
   ],
   "source": [
    "sns.regplot(x = dfPRPL['Average_Search_Interest'], y = dfPRPL['Absolute_Pct_Change'], color = 'purple')"
   ]
  },
  {
   "cell_type": "code",
   "execution_count": 17,
   "metadata": {},
   "outputs": [
    {
     "data": {
      "text/plain": [
       "<matplotlib.axes._subplots.AxesSubplot at 0x22212cc9f40>"
      ]
     },
     "execution_count": 17,
     "metadata": {},
     "output_type": "execute_result"
    },
    {
     "data": {
      "image/png": "[encoded data removed]",
      "text/plain": [
       "<Figure size 432x288 with 1 Axes>"
      ]
     },
     "metadata": {
      "needs_background": "light"
     },
     "output_type": "display_data"
    }
   ],
   "source": [
    "sns.regplot( x = dfTSLA['Average_Search_Interest'], y = dfTSLA['Absolute_Pct_Change'], color = 'red')"
   ]
  },
  {
   "cell_type": "code",
   "execution_count": 18,
   "metadata": {},
   "outputs": [
    {
     "data": {
      "text/plain": [
       "<matplotlib.axes._subplots.AxesSubplot at 0x22212d27eb0>"
      ]
     },
     "execution_count": 18,
     "metadata": {},
     "output_type": "execute_result"
    },
    {
     "data": {
      "image/png": "[encoded data removed]",
      "text/plain": [
       "<Figure size 432x288 with 1 Axes>"
      ]
     },
     "metadata": {
      "needs_background": "light"
     },
     "output_type": "display_data"
    }
   ],
   "source": [
    "sns.regplot(x = dfGOOG['Average_Search_Interest'], y = dfGOOG['Absolute_Pct_Change'], color = 'green')"
   ]
  },
  {
   "cell_type": "markdown",
   "metadata": {},
   "source": [
    "#### Viewing regression plots for trading volume and search interest"
   ]
  },
  {
   "cell_type": "code",
   "execution_count": 19,
   "metadata": {},
   "outputs": [
    {
     "data": {
      "text/plain": [
       "<matplotlib.axes._subplots.AxesSubplot at 0x22212d0a2e0>"
      ]
     },
     "execution_count": 19,
     "metadata": {},
     "output_type": "execute_result"
    },
    {
     "data": {
      "image/png": "[encoded data removed]",
      "text/plain": [
       "<Figure size 432x288 with 1 Axes>"
      ]
     },
     "metadata": {
      "needs_background": "light"
     },
     "output_type": "display_data"
    }
   ],
   "source": [
    "sns.regplot(x = dfTSLA['Average_Search_Interest'], y = dfTSLA['Volume'], color = 'red')"
   ]
  },
  {
   "cell_type": "code",
   "execution_count": 20,
   "metadata": {},
   "outputs": [
    {
     "data": {
      "text/plain": [
       "<matplotlib.axes._subplots.AxesSubplot at 0x222134c7dc0>"
      ]
     },
     "execution_count": 20,
     "metadata": {},
     "output_type": "execute_result"
    },
    {
     "data": {
      "image/png": "[encoded data removed]",
      "text/plain": [
       "<Figure size 432x288 with 1 Axes>"
      ]
     },
     "metadata": {
      "needs_background": "light"
     },
     "output_type": "display_data"
    }
   ],
   "source": [
    "sns.regplot(x = dfPRPL['Average_Search_Interest'], y = dfPRPL['Volume'], color = 'purple')"
   ]
  },
  {
   "cell_type": "code",
   "execution_count": 21,
   "metadata": {},
   "outputs": [
    {
     "data": {
      "text/plain": [
       "<matplotlib.axes._subplots.AxesSubplot at 0x22213533c70>"
      ]
     },
     "execution_count": 21,
     "metadata": {},
     "output_type": "execute_result"
    },
    {
     "data": {
      "image/png": "[encoded data removed]",
      "text/plain": [
       "<Figure size 432x288 with 1 Axes>"
      ]
     },
     "metadata": {
      "needs_background": "light"
     },
     "output_type": "display_data"
    }
   ],
   "source": [
    "sns.regplot(x = dfGOOG['Average_Search_Interest'], y = dfGOOG['Volume'], color = 'green')"
   ]
  },
  {
   "cell_type": "code",
   "execution_count": 22,
   "metadata": {},
   "outputs": [],
   "source": [
    "modelSPRPL = sm.ols('Absolute_Pct_Change ~ Average_Search_Interest',data=dfGOOG)\n",
    "modelSPRPL = modelSPRPL.fit()\n",
    "\n",
    "modelSTSLA = sm.ols('Absolute_Pct_Change ~ Average_Search_Interest',data=dfTSLA)\n",
    "modelSTSLA = modelSTSLA.fit()\n",
    "\n",
    "modelSGOOG = sm.ols('Absolute_Pct_Change ~ Average_Search_Interest',data=dfGOOG)\n",
    "modelSGOOG = modelSGOOG.fit()\n",
    "\n",
    "modelVPRPL = sm.ols('Volume ~ Average_Search_Interest',data=dfPRPL)\n",
    "modelVPRPL = modelVPRPL.fit()\n",
    "\n",
    "modelVTSLA = sm.ols('Volume ~ Average_Search_Interest',data=dfTSLA)\n",
    "modelVTSLA = modelVTSLA.fit()\n",
    "\n",
    "modelVGOOG = sm.ols('Volume ~ Average_Search_Interest',data=dfGOOG)\n",
    "modelVGOOG = modelVGOOG.fit()\n",
    "\n",
    "models = [modelSPRPL,modelSTSLA,modelSGOOG,modelVPRPL,modelVTSLA,modelVGOOG]"
   ]
  },
  {
   "cell_type": "code",
   "execution_count": 23,
   "metadata": {},
   "outputs": [],
   "source": [
    "def displayRegression(model,Title):\n",
    "    print(Title)\n",
    "    print(model.params)\n",
    "    print('R Squared:', model.rsquared)\n",
    "    print()"
   ]
  },
  {
   "cell_type": "code",
   "execution_count": 24,
   "metadata": {},
   "outputs": [
    {
     "name": "stdout",
     "output_type": "stream",
     "text": [
      "Absolute Percent Change and Search Interest: PRPL\n",
      "Intercept                  0.011089\n",
      "Average_Search_Interest    0.000519\n",
      "dtype: float64\n",
      "R Squared: 0.01633413442764786\n",
      "\n",
      "Absolute Percent Change and Search Interest: TSLA\n",
      "Intercept                  0.038828\n",
      "Average_Search_Interest    0.002719\n",
      "dtype: float64\n",
      "R Squared: 0.16735598476392632\n",
      "\n",
      "Absolute Percent Change and Search Interest: GOOG\n",
      "Intercept                  0.011089\n",
      "Average_Search_Interest    0.000519\n",
      "dtype: float64\n",
      "R Squared: 0.01633413442764786\n",
      "\n",
      "Volume and Search Interest: PRPL\n",
      "Intercept                 -538113.962269\n",
      "Average_Search_Interest    403013.844164\n",
      "dtype: float64\n",
      "R Squared: 0.44304988555199654\n",
      "\n",
      "Volume and Search Interest: TSLA\n",
      "Intercept                  1.214859e+08\n",
      "Average_Search_Interest    9.705188e+06\n",
      "dtype: float64\n",
      "R Squared: 0.4525711487860693\n",
      "\n",
      "Volume and Search Interest: GOOG\n",
      "Intercept                  250026.665009\n",
      "Average_Search_Interest    301034.653529\n",
      "dtype: float64\n",
      "R Squared: 0.2639899725142938\n",
      "\n"
     ]
    }
   ],
   "source": [
    "displayRegression(modelSPRPL,'Absolute Percent Change and Search Interest: PRPL')\n",
    "displayRegression(modelSTSLA,'Absolute Percent Change and Search Interest: TSLA')\n",
    "displayRegression(modelSGOOG,'Absolute Percent Change and Search Interest: GOOG')\n",
    "displayRegression(modelVPRPL,'Volume and Search Interest: PRPL')\n",
    "displayRegression(modelVTSLA,'Volume and Search Interest: TSLA')\n",
    "displayRegression(modelVGOOG,'Volume and Search Interest: GOOG')"
   ]
  },
  {
   "cell_type": "code",
   "execution_count": null,
   "metadata": {},
   "outputs": [],
   "source": []
  }
 ],
 "metadata": {
  "kernelspec": {
   "display_name": "Python 3",
   "language": "python",
   "name": "python3"
  },
  "language_info": {
   "codemirror_mode": {
    "name": "ipython",
    "version": 3
   },
   "file_extension": ".py",
   "mimetype": "text/x-python",
   "name": "python",
   "nbconvert_exporter": "python",
   "pygments_lexer": "ipython3",
   "version": "3.8.3"
  }
 },
 "nbformat": 4,
 "nbformat_minor": 4
}
