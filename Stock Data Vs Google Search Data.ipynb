{
 "cells": [
  {
   "cell_type": "markdown",
   "metadata": {},
   "source": [
    "# Stock Price Vs Stock Google Searches"
   ]
  },
  {
   "cell_type": "markdown",
   "metadata": {},
   "source": [
    "## Introduction:\n",
    "\n",
    "This notebook is to explore the relation that search interest in a stock ticker has to do with the historical information for that stock. The data will be taken from historical stock data provided from Yahoo Finance and from search interest data gathered from Google Trends. For the purposes of this project I will only be looking at the level of search interest by observing the level of searches for the stocks ticker symbol. Another way of observing interest would be to look at searches for \"x stock\" or \"x stock price\", but I will only be using the tickers for this project. I will explore whether there is correlation between the absolute percent change in the stock and search interest in a stock. I will aslo explore whether there is correlation between stock trading volume and search interest in a stock."
   ]
  },
  {
   "cell_type": "markdown",
   "metadata": {},
   "source": [
    "#### Imports:"
   ]
  },
  {
   "cell_type": "code",
   "execution_count": null,
   "metadata": {},
   "outputs": [],
   "source": [
    "# To use dataframes & view csv file from google\n",
    "import pandas as pd\n",
    "from pandas import Series, DataFrame\n",
    "import numpy as np\n",
    "\n",
    "# To visualize data\n",
    "import matplotlib.pyplot as plt\n",
    "import seaborn as sns\n",
    "sns.set_style('whitegrid')\n",
    "%matplotlib inline\n",
    "\n",
    "from datetime import datetime\n",
    "\n",
    "# To get data from yahoo\n",
    "import pandas_datareader as pdr\n",
    "\n",
    "# To get search data from google\n",
    "import pytrends\n",
    "from pytrends.request import TrendReq\n",
    "\n",
    "import statsmodels.formula.api as sm"
   ]
  },
  {
   "cell_type": "markdown",
   "metadata": {},
   "source": [
    "#### Retrieving data from Yahoo Finance:"
   ]
  },
  {
   "cell_type": "code",
   "execution_count": 2,
   "metadata": {},
   "outputs": [],
   "source": [
    "stock_list = ['PRPL','TSLA','GOOG']\n",
    "\n",
    "end = datetime.now()\n",
    "start = datetime(end.year - 1,end.month,end.day)\n",
    "\n",
    "# Retrieve the data. Each stock historical data stored under dataframe object named under stock ticker\n",
    "for stock in stock_list:\n",
    "    globals()[stock] = pdr.get_data_yahoo(stock,start,end)"
   ]
  },
  {
   "cell_type": "markdown",
   "metadata": {},
   "source": [
    "#### Viewing Stock Data"
   ]
  },
  {
   "cell_type": "code",
   "execution_count": 3,
   "metadata": {},
   "outputs": [
    {
     "data": {
      "text/html": [
       "<div>\n",
       "<style scoped>\n",
       "    .dataframe tbody tr th:only-of-type {\n",
       "        vertical-align: middle;\n",
       "    }\n",
       "\n",
       "    .dataframe tbody tr th {\n",
       "        vertical-align: top;\n",
       "    }\n",
       "\n",
       "    .dataframe thead th {\n",
       "        text-align: right;\n",
       "    }\n",
       "</style>\n",
       "<table border=\"1\" class=\"dataframe\">\n",
       "  <thead>\n",
       "    <tr style=\"text-align: right;\">\n",
       "      <th></th>\n",
       "      <th>High</th>\n",
       "      <th>Low</th>\n",
       "      <th>Open</th>\n",
       "      <th>Close</th>\n",
       "      <th>Volume</th>\n",
       "      <th>Adj Close</th>\n",
       "    </tr>\n",
       "    <tr>\n",
       "      <th>Date</th>\n",
       "      <th></th>\n",
       "      <th></th>\n",
       "      <th></th>\n",
       "      <th></th>\n",
       "      <th></th>\n",
       "      <th></th>\n",
       "    </tr>\n",
       "  </thead>\n",
       "  <tbody>\n",
       "    <tr>\n",
       "      <td>2019-12-30</td>\n",
       "      <td>8.639</td>\n",
       "      <td>8.270</td>\n",
       "      <td>8.58</td>\n",
       "      <td>8.57</td>\n",
       "      <td>361700</td>\n",
       "      <td>8.57</td>\n",
       "    </tr>\n",
       "    <tr>\n",
       "      <td>2019-12-31</td>\n",
       "      <td>8.790</td>\n",
       "      <td>8.405</td>\n",
       "      <td>8.49</td>\n",
       "      <td>8.71</td>\n",
       "      <td>201100</td>\n",
       "      <td>8.71</td>\n",
       "    </tr>\n",
       "    <tr>\n",
       "      <td>2020-01-02</td>\n",
       "      <td>9.370</td>\n",
       "      <td>8.710</td>\n",
       "      <td>8.77</td>\n",
       "      <td>9.19</td>\n",
       "      <td>302500</td>\n",
       "      <td>9.19</td>\n",
       "    </tr>\n",
       "    <tr>\n",
       "      <td>2020-01-03</td>\n",
       "      <td>9.600</td>\n",
       "      <td>9.010</td>\n",
       "      <td>9.02</td>\n",
       "      <td>9.16</td>\n",
       "      <td>243500</td>\n",
       "      <td>9.16</td>\n",
       "    </tr>\n",
       "    <tr>\n",
       "      <td>2020-01-06</td>\n",
       "      <td>9.530</td>\n",
       "      <td>9.180</td>\n",
       "      <td>9.23</td>\n",
       "      <td>9.46</td>\n",
       "      <td>520100</td>\n",
       "      <td>9.46</td>\n",
       "    </tr>\n",
       "  </tbody>\n",
       "</table>\n",
       "</div>"
      ],
      "text/plain": [
       "             High    Low  Open  Close  Volume  Adj Close\n",
       "Date                                                    \n",
       "2019-12-30  8.639  8.270  8.58   8.57  361700       8.57\n",
       "2019-12-31  8.790  8.405  8.49   8.71  201100       8.71\n",
       "2020-01-02  9.370  8.710  8.77   9.19  302500       9.19\n",
       "2020-01-03  9.600  9.010  9.02   9.16  243500       9.16\n",
       "2020-01-06  9.530  9.180  9.23   9.46  520100       9.46"
      ]
     },
     "execution_count": 3,
     "metadata": {},
     "output_type": "execute_result"
    }
   ],
   "source": [
    "PRPL.head()"
   ]
  },
  {
   "cell_type": "markdown",
   "metadata": {},
   "source": [
    "#### Plotting Stock Closing Price Over Time:"
   ]
  },
  {
   "cell_type": "code",
   "execution_count": 4,
   "metadata": {},
   "outputs": [
    {
     "data": {
      "text/plain": [
       "Text(0, 0.5, 'Closing Price')"
      ]
     },
     "execution_count": 4,
     "metadata": {},
     "output_type": "execute_result"
    },
    {
     "data": {
      "image/png": "[encoded data removed]",
      "text/plain": [
       "<Figure size 432x288 with 1 Axes>"
      ]
     },
     "metadata": {
      "needs_background": "light"
     },
     "output_type": "display_data"
    }
   ],
   "source": [
    "PRPL['Close'].plot(color = ('purple'))\n",
    "plt.xlabel('Date')\n",
    "plt.ylabel('Closing Price')"
   ]
  },
  {
   "cell_type": "markdown",
   "metadata": {},
   "source": [
    "#### Function to convert daily stock data to weekly:"
   ]
  },
  {
   "cell_type": "code",
   "execution_count": 5,
   "metadata": {},
   "outputs": [],
   "source": [
    "def convert_to_weekly(df):\n",
    "    \n",
    "    \n",
    "    df['Date'] = df.index \n",
    "    df[['Date','High','Low','Open','Close','Volume','Adj Close']]\n",
    "    df['Date'] = pd.to_datetime(df['Date'])\n",
    "    df.set_index('Date', inplace=True)\n",
    "    df.sort_index(inplace=True)\n",
    "    \n",
    "    # Resample all of the data to convert data to weekly\n",
    "    output = df.resample('W',loffset=pd.offsets.timedelta(days=-7)).apply(\n",
    "        {'Open': 'first',\n",
    "         'High': 'max',\n",
    "         'Low': 'min',\n",
    "         'Close': 'last',\n",
    "         'Volume': 'sum',\n",
    "         'Adj Close': 'last'})\n",
    "    \n",
    "    # Output of the new dataframes\n",
    "    output = output[['Open', 'High', 'Low', 'Close', 'Volume','Adj Close']]\n",
    "    df =  output\n",
    "    return df"
   ]
  },
  {
   "cell_type": "markdown",
   "metadata": {},
   "source": [
    "#### Using function on Stock Data:"
   ]
  },
  {
   "cell_type": "code",
   "execution_count": 6,
   "metadata": {},
   "outputs": [],
   "source": [
    "PRPL = convert_to_weekly(PRPL)\n",
    "TSLA = convert_to_weekly(TSLA)\n",
    "GOOG = convert_to_weekly(GOOG)"
   ]
  },
  {
   "cell_type": "markdown",
   "metadata": {},
   "source": [
    "#### Viewing converted stock data:"
   ]
  },
  {
   "cell_type": "code",
   "execution_count": 7,
   "metadata": {},
   "outputs": [
    {
     "data": {
      "text/html": [
       "<div>\n",
       "<style scoped>\n",
       "    .dataframe tbody tr th:only-of-type {\n",
       "        vertical-align: middle;\n",
       "    }\n",
       "\n",
       "    .dataframe tbody tr th {\n",
       "        vertical-align: top;\n",
       "    }\n",
       "\n",
       "    .dataframe thead th {\n",
       "        text-align: right;\n",
       "    }\n",
       "</style>\n",
       "<table border=\"1\" class=\"dataframe\">\n",
       "  <thead>\n",
       "    <tr style=\"text-align: right;\">\n",
       "      <th></th>\n",
       "      <th>Open</th>\n",
       "      <th>High</th>\n",
       "      <th>Low</th>\n",
       "      <th>Close</th>\n",
       "      <th>Volume</th>\n",
       "      <th>Adj Close</th>\n",
       "    </tr>\n",
       "    <tr>\n",
       "      <th>Date</th>\n",
       "      <th></th>\n",
       "      <th></th>\n",
       "      <th></th>\n",
       "      <th></th>\n",
       "      <th></th>\n",
       "      <th></th>\n",
       "    </tr>\n",
       "  </thead>\n",
       "  <tbody>\n",
       "    <tr>\n",
       "      <td>2019-12-29</td>\n",
       "      <td>1350.000000</td>\n",
       "      <td>1372.500000</td>\n",
       "      <td>1329.084961</td>\n",
       "      <td>1360.660034</td>\n",
       "      <td>4605700</td>\n",
       "      <td>1360.660034</td>\n",
       "    </tr>\n",
       "    <tr>\n",
       "      <td>2020-01-05</td>\n",
       "      <td>1350.000000</td>\n",
       "      <td>1434.928955</td>\n",
       "      <td>1350.000000</td>\n",
       "      <td>1429.729980</td>\n",
       "      <td>8084600</td>\n",
       "      <td>1429.729980</td>\n",
       "    </tr>\n",
       "    <tr>\n",
       "      <td>2020-01-12</td>\n",
       "      <td>1436.130005</td>\n",
       "      <td>1481.295044</td>\n",
       "      <td>1426.020020</td>\n",
       "      <td>1480.390015</td>\n",
       "      <td>8063800</td>\n",
       "      <td>1480.390015</td>\n",
       "    </tr>\n",
       "    <tr>\n",
       "      <td>2020-01-19</td>\n",
       "      <td>1479.119995</td>\n",
       "      <td>1503.213989</td>\n",
       "      <td>1465.250000</td>\n",
       "      <td>1466.709961</td>\n",
       "      <td>6783300</td>\n",
       "      <td>1466.709961</td>\n",
       "    </tr>\n",
       "    <tr>\n",
       "      <td>2020-01-26</td>\n",
       "      <td>1431.000000</td>\n",
       "      <td>1470.130005</td>\n",
       "      <td>1421.199951</td>\n",
       "      <td>1434.229980</td>\n",
       "      <td>8166900</td>\n",
       "      <td>1434.229980</td>\n",
       "    </tr>\n",
       "  </tbody>\n",
       "</table>\n",
       "</div>"
      ],
      "text/plain": [
       "                   Open         High          Low        Close   Volume  \\\n",
       "Date                                                                      \n",
       "2019-12-29  1350.000000  1372.500000  1329.084961  1360.660034  4605700   \n",
       "2020-01-05  1350.000000  1434.928955  1350.000000  1429.729980  8084600   \n",
       "2020-01-12  1436.130005  1481.295044  1426.020020  1480.390015  8063800   \n",
       "2020-01-19  1479.119995  1503.213989  1465.250000  1466.709961  6783300   \n",
       "2020-01-26  1431.000000  1470.130005  1421.199951  1434.229980  8166900   \n",
       "\n",
       "              Adj Close  \n",
       "Date                     \n",
       "2019-12-29  1360.660034  \n",
       "2020-01-05  1429.729980  \n",
       "2020-01-12  1480.390015  \n",
       "2020-01-19  1466.709961  \n",
       "2020-01-26  1434.229980  "
      ]
     },
     "execution_count": 7,
     "metadata": {},
     "output_type": "execute_result"
    }
   ],
   "source": [
    "GOOG.head()"
   ]
  },
  {
   "cell_type": "markdown",
   "metadata": {},
   "source": [
    "#### Retreiving data from Google Trends using pytrend"
   ]
  },
  {
   "cell_type": "code",
   "execution_count": 8,
   "metadata": {},
   "outputs": [],
   "source": [
    "pytrend = TrendReq()\n",
    "pytrend.build_payload(kw_list=['PRPL'],\n",
    "     cat=0,\n",
    "     timeframe= 'today 12-m')\n",
    "sPRPL = pytrend.interest_over_time()\n",
    "sPRPL = sPRPL.drop(columns = 'isPartial')"
   ]
  },
  {
   "cell_type": "code",
   "execution_count": 9,
   "metadata": {},
   "outputs": [],
   "source": [
    "pytrend = TrendReq()\n",
    "pytrend.build_payload(kw_list=['TSLA'],\n",
    "     cat=0,\n",
    "     timeframe= 'today 12-m')\n",
    "sTSLA = pytrend.interest_over_time()\n",
    "sTSLA = sTSLA.drop(columns = 'isPartial')"
   ]
  },
  {
   "cell_type": "code",
   "execution_count": 10,
   "metadata": {},
   "outputs": [],
   "source": [
    "pytrend = TrendReq()\n",
    "pytrend.build_payload(kw_list=['GOOG'],\n",
    "     cat=0,\n",
    "     timeframe= 'today 12-m')\n",
    "sGOOG = pytrend.interest_over_time()\n",
    "sGOOG = sGOOG.drop(columns = 'isPartial')"
   ]
  },
  {
   "cell_type": "markdown",
   "metadata": {},
   "source": [
    "#### Plotting search interest data:"
   ]
  },
  {
   "cell_type": "code",
   "execution_count": 11,
   "metadata": {},
   "outputs": [
    {
     "data": {
      "text/plain": [
       "Text(0, 0.5, 'Ticker Search Interest')"
      ]
     },
     "execution_count": 11,
     "metadata": {},
     "output_type": "execute_result"
    },
    {
     "data": {
      "image/png": "[encoded data removed]",
      "text/plain": [
       "<Figure size 432x288 with 1 Axes>"
      ]
     },
     "metadata": {
      "needs_background": "light"
     },
     "output_type": "display_data"
    }
   ],
   "source": [
    "sPRPL['PRPL'].plot(color=('purple'))\n",
    "plt.xlabel('Date')\n",
    "plt.ylabel('Ticker Search Interest')"
   ]
  },
  {
   "cell_type": "markdown",
   "metadata": {},
   "source": [
    "#### Concatinating the two dataframes into one:"
   ]
  },
  {
   "cell_type": "code",
   "execution_count": 12,
   "metadata": {},
   "outputs": [],
   "source": [
    "dfPRPL = pd.concat([PRPL,sPRPL],axis=1)\n",
    "dfTSLA = pd.concat([TSLA,sTSLA],axis=1)\n",
    "dfGOOG = pd.concat([GOOG,sGOOG],axis=1)"
   ]
  },
  {
   "cell_type": "markdown",
   "metadata": {},
   "source": [
    "#### Viewing new datatable:"
   ]
  },
  {
   "cell_type": "code",
   "execution_count": 13,
   "metadata": {},
   "outputs": [
    {
     "data": {
      "text/html": [
       "<div>\n",
       "<style scoped>\n",
       "    .dataframe tbody tr th:only-of-type {\n",
       "        vertical-align: middle;\n",
       "    }\n",
       "\n",
       "    .dataframe tbody tr th {\n",
       "        vertical-align: top;\n",
       "    }\n",
       "\n",
       "    .dataframe thead th {\n",
       "        text-align: right;\n",
       "    }\n",
       "</style>\n",
       "<table border=\"1\" class=\"dataframe\">\n",
       "  <thead>\n",
       "    <tr style=\"text-align: right;\">\n",
       "      <th></th>\n",
       "      <th>Open</th>\n",
       "      <th>High</th>\n",
       "      <th>Low</th>\n",
       "      <th>Close</th>\n",
       "      <th>Volume</th>\n",
       "      <th>Adj Close</th>\n",
       "      <th>PRPL</th>\n",
       "    </tr>\n",
       "  </thead>\n",
       "  <tbody>\n",
       "    <tr>\n",
       "      <td>2019-12-29</td>\n",
       "      <td>8.58</td>\n",
       "      <td>9.60</td>\n",
       "      <td>8.27</td>\n",
       "      <td>9.16</td>\n",
       "      <td>1108800</td>\n",
       "      <td>9.16</td>\n",
       "      <td>2.0</td>\n",
       "    </tr>\n",
       "    <tr>\n",
       "      <td>2020-01-05</td>\n",
       "      <td>9.23</td>\n",
       "      <td>10.63</td>\n",
       "      <td>9.18</td>\n",
       "      <td>10.61</td>\n",
       "      <td>2358300</td>\n",
       "      <td>10.61</td>\n",
       "      <td>1.0</td>\n",
       "    </tr>\n",
       "    <tr>\n",
       "      <td>2020-01-12</td>\n",
       "      <td>10.50</td>\n",
       "      <td>11.74</td>\n",
       "      <td>10.11</td>\n",
       "      <td>10.97</td>\n",
       "      <td>2095600</td>\n",
       "      <td>10.97</td>\n",
       "      <td>3.0</td>\n",
       "    </tr>\n",
       "    <tr>\n",
       "      <td>2020-01-19</td>\n",
       "      <td>10.98</td>\n",
       "      <td>11.92</td>\n",
       "      <td>10.75</td>\n",
       "      <td>11.15</td>\n",
       "      <td>1311500</td>\n",
       "      <td>11.15</td>\n",
       "      <td>4.0</td>\n",
       "    </tr>\n",
       "    <tr>\n",
       "      <td>2020-01-26</td>\n",
       "      <td>11.13</td>\n",
       "      <td>12.75</td>\n",
       "      <td>10.74</td>\n",
       "      <td>12.57</td>\n",
       "      <td>2477800</td>\n",
       "      <td>12.57</td>\n",
       "      <td>5.0</td>\n",
       "    </tr>\n",
       "  </tbody>\n",
       "</table>\n",
       "</div>"
      ],
      "text/plain": [
       "             Open   High    Low  Close   Volume  Adj Close  PRPL\n",
       "2019-12-29   8.58   9.60   8.27   9.16  1108800       9.16   2.0\n",
       "2020-01-05   9.23  10.63   9.18  10.61  2358300      10.61   1.0\n",
       "2020-01-12  10.50  11.74  10.11  10.97  2095600      10.97   3.0\n",
       "2020-01-19  10.98  11.92  10.75  11.15  1311500      11.15   4.0\n",
       "2020-01-26  11.13  12.75  10.74  12.57  2477800      12.57   5.0"
      ]
     },
     "execution_count": 13,
     "metadata": {},
     "output_type": "execute_result"
    }
   ],
   "source": [
    "dfPRPL.head()"
   ]
  },
  {
   "cell_type": "code",
   "execution_count": 14,
   "metadata": {},
   "outputs": [],
   "source": [
    "dfPRPL['Return'] = dfPRPL['Adj Close'].pct_change()\n",
    "dfPRPL['AbsolutePctChange'] = dfPRPL['Return'].abs()\n",
    "\n",
    "dfTSLA['Return'] = dfTSLA['Adj Close'].pct_change()\n",
    "dfTSLA['AbsolutePctChange'] = dfTSLA['Return'].abs()\n",
    "\n",
    "dfGOOG['Return'] = dfGOOG['Adj Close'].pct_change()\n",
    "dfGOOG['AbsolutePctChange'] = dfGOOG['Return'].abs()\n",
    "\n",
    "dfPRPL = dfPRPL.dropna()\n",
    "dfTSLA = dfTSLA.dropna()\n",
    "dfGOOG = dfGOOG.dropna()"
   ]
  },
  {
   "cell_type": "markdown",
   "metadata": {},
   "source": [
    "#### Viewing regression plots for % change and search interest:"
   ]
  },
  {
   "cell_type": "code",
   "execution_count": 18,
   "metadata": {},
   "outputs": [
    {
     "data": {
      "text/plain": [
       "<matplotlib.axes._subplots.AxesSubplot at 0x293241c0d48>"
      ]
     },
     "execution_count": 18,
     "metadata": {},
     "output_type": "execute_result"
    },
    {
     "data": {
      "image/png": "[encoded data removed]",
      "text/plain": [
       "<Figure size 432x288 with 1 Axes>"
      ]
     },
     "metadata": {
      "needs_background": "light"
     },
     "output_type": "display_data"
    }
   ],
   "source": [
    "sns.regplot(x = dfPRPL['PRPL'], y = dfPRPL['AbsolutePctChange'], color = 'purple')"
   ]
  },
  {
   "cell_type": "code",
   "execution_count": 17,
   "metadata": {},
   "outputs": [
    {
     "data": {
      "text/plain": [
       "<matplotlib.axes._subplots.AxesSubplot at 0x29323f53088>"
      ]
     },
     "execution_count": 17,
     "metadata": {},
     "output_type": "execute_result"
    },
    {
     "data": {
      "image/png": "[encoded data removed]",
      "text/plain": [
       "<Figure size 432x288 with 1 Axes>"
      ]
     },
     "metadata": {
      "needs_background": "light"
     },
     "output_type": "display_data"
    }
   ],
   "source": [
    "sns.regplot( x = dfTSLA['TSLA'], y = dfTSLA['AbsolutePctChange'], color = 'red')"
   ]
  },
  {
   "cell_type": "code",
   "execution_count": 19,
   "metadata": {},
   "outputs": [
    {
     "data": {
      "text/plain": [
       "<matplotlib.axes._subplots.AxesSubplot at 0x29324489748>"
      ]
     },
     "execution_count": 19,
     "metadata": {},
     "output_type": "execute_result"
    },
    {
     "data": {
      "image/png": "[encoded data removed]",
      "text/plain": [
       "<Figure size 432x288 with 1 Axes>"
      ]
     },
     "metadata": {
      "needs_background": "light"
     },
     "output_type": "display_data"
    }
   ],
   "source": [
    "sns.regplot(x = dfGOOG['GOOG'], y = dfGOOG['AbsolutePctChange'], color = 'green')"
   ]
  },
  {
   "cell_type": "markdown",
   "metadata": {},
   "source": [
    "#### Viewing regression plots for trading volume and search interest"
   ]
  },
  {
   "cell_type": "code",
   "execution_count": 20,
   "metadata": {},
   "outputs": [
    {
     "data": {
      "text/plain": [
       "<matplotlib.axes._subplots.AxesSubplot at 0x29324490048>"
      ]
     },
     "execution_count": 20,
     "metadata": {},
     "output_type": "execute_result"
    },
    {
     "data": {
      "image/png": "[encoded data removed]",
      "text/plain": [
       "<Figure size 432x288 with 1 Axes>"
      ]
     },
     "metadata": {
      "needs_background": "light"
     },
     "output_type": "display_data"
    }
   ],
   "source": [
    "sns.regplot(x = dfTSLA['TSLA'], y = dfTSLA['Volume'], color = 'red')"
   ]
  },
  {
   "cell_type": "code",
   "execution_count": 21,
   "metadata": {},
   "outputs": [
    {
     "data": {
      "text/plain": [
       "<matplotlib.axes._subplots.AxesSubplot at 0x29324554f08>"
      ]
     },
     "execution_count": 21,
     "metadata": {},
     "output_type": "execute_result"
    },
    {
     "data": {
      "image/png": "[encoded data removed]",
      "text/plain": [
       "<Figure size 432x288 with 1 Axes>"
      ]
     },
     "metadata": {
      "needs_background": "light"
     },
     "output_type": "display_data"
    }
   ],
   "source": [
    "sns.regplot(x = dfPRPL['PRPL'], y = dfPRPL['Volume'], color = 'purple')"
   ]
  },
  {
   "cell_type": "code",
   "execution_count": 22,
   "metadata": {},
   "outputs": [
    {
     "data": {
      "text/plain": [
       "<matplotlib.axes._subplots.AxesSubplot at 0x293245a3208>"
      ]
     },
     "execution_count": 22,
     "metadata": {},
     "output_type": "execute_result"
    },
    {
     "data": {
      "image/png": "[encoded data removed]",
      "text/plain": [
       "<Figure size 432x288 with 1 Axes>"
      ]
     },
     "metadata": {
      "needs_background": "light"
     },
     "output_type": "display_data"
    }
   ],
   "source": [
    "sns.regplot(x = dfGOOG['GOOG'], y = dfGOOG['Volume'], color = 'green')"
   ]
  },
  {
   "cell_type": "code",
   "execution_count": 27,
   "metadata": {},
   "outputs": [],
   "source": [
    "modelSPRPL = sm.ols('AbsolutePctChange ~ GOOG',data=dfGOOG)\n",
    "modelSPRPL = modelSPRPL.fit()\n",
    "\n",
    "modelSTSLA = sm.ols('AbsolutePctChange ~ TSLA',data=dfTSLA)\n",
    "modelSTSLA = modelSTSLA.fit()\n",
    "\n",
    "modelSGOOG = sm.ols('AbsolutePctChange ~ GOOG',data=dfGOOG)\n",
    "modelSGOOG = modelSGOOG.fit()\n",
    "\n",
    "modelVPRPL = sm.ols('Volume ~ PRPL',data=dfPRPL)\n",
    "modelVPRPL = modelVPRPL.fit()\n",
    "\n",
    "modelVTSLA = sm.ols('Volume ~ TSLA',data=dfTSLA)\n",
    "modelVTSLA = modelVTSLA.fit()\n",
    "\n",
    "modelVGOOG = sm.ols('Volume ~ GOOG',data=dfGOOG)\n",
    "modelVGOOG = modelVGOOG.fit()\n",
    "\n",
    "models = [modelSPRPL,modelSTSLA,modelSGOOG,modelVPRPL,modelVTSLA,modelVGOOG]"
   ]
  },
  {
   "cell_type": "code",
   "execution_count": 42,
   "metadata": {},
   "outputs": [],
   "source": [
    "def displayRegression(model,Title):\n",
    "    print(Title)\n",
    "    print(model.params)\n",
    "    print('R Squared:', model.rsquared)\n",
    "    print()"
   ]
  },
  {
   "cell_type": "code",
   "execution_count": 43,
   "metadata": {},
   "outputs": [
    {
     "name": "stdout",
     "output_type": "stream",
     "text": [
      "Absolute Percent Change and Search Interest: PRPL\n",
      "Intercept   -0.033768\n",
      "GOOG         0.000859\n",
      "dtype: float64\n",
      "R Squared: 0.07530569991560221\n",
      "\n",
      "Absolute Percent Change and Search Interest: TSLA\n",
      "Intercept    0.085841\n",
      "TSLA         0.000492\n",
      "dtype: float64\n",
      "R Squared: 0.011673440651278066\n",
      "\n",
      "Absolute Percent Change and Search Interest: GOOG\n",
      "Intercept   -0.033768\n",
      "GOOG         0.000859\n",
      "dtype: float64\n",
      "R Squared: 0.07530569991560221\n",
      "\n",
      "Volume and Search Interest: PRPL\n",
      "Intercept    3.904327e+06\n",
      "PRPL         8.201245e+04\n",
      "dtype: float64\n",
      "R Squared: 0.2091624764022476\n",
      "\n",
      "Volume and Search Interest: TSLA\n",
      "Intercept    2.014455e+07\n",
      "TSLA         7.370634e+06\n",
      "dtype: float64\n",
      "R Squared: 0.4441723298896433\n",
      "\n",
      "Volume and Search Interest: GOOG\n",
      "Intercept   -1.066835e+07\n",
      "GOOG         2.540980e+05\n",
      "dtype: float64\n",
      "R Squared: 0.5009062105943543\n",
      "\n"
     ]
    }
   ],
   "source": [
    "displayRegression(modelSPRPL,'Absolute Percent Change and Search Interest: PRPL')\n",
    "displayRegression(modelSTSLA,'Absolute Percent Change and Search Interest: TSLA')\n",
    "displayRegression(modelSGOOG,'Absolute Percent Change and Search Interest: GOOG')\n",
    "displayRegression(modelVPRPL,'Volume and Search Interest: PRPL')\n",
    "displayRegression(modelVTSLA,'Volume and Search Interest: TSLA')\n",
    "displayRegression(modelVGOOG,'Volume and Search Interest: GOOG')"
   ]
  },
  {
   "cell_type": "code",
   "execution_count": null,
   "metadata": {},
   "outputs": [],
   "source": []
  }
 ],
 "metadata": {
  "kernelspec": {
   "display_name": "Python 3",
   "language": "python",
   "name": "python3"
  },
  "language_info": {
   "codemirror_mode": {
    "name": "ipython",
    "version": 3
   },
   "file_extension": ".py",
   "mimetype": "text/x-python",
   "name": "python",
   "nbconvert_exporter": "python",
   "pygments_lexer": "ipython3",
   "version": "3.7.4"
  }
 },
 "nbformat": 4,
 "nbformat_minor": 4
}
