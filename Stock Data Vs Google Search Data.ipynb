{
 "cells": [
  {
   "cell_type": "markdown",
   "metadata": {},
   "source": [
    "# Stock Data And Stock Google Searches"
   ]
  },
  {
   "cell_type": "markdown",
   "metadata": {},
   "source": [
    "## Introduction:\n",
    "\n",
    "This notebook is to explore the relation that search interest in a stock ticker has to do with the historical information for that stock. The data will be taken from historical stock data provided from Yahoo Finance and from search interest data gathered from Google Trends. For the purposes of this project I will only be looking at the level of search interest by observing the level of searches for the stocks ticker symbol. I will explore whether there is correlation between the absolute percent change in the stock and search interest in a stock. I will aslo explore whether there is correlation between stock trading volume and search interest in a stock. The correlation will be calculated by doing simple linear regression analysis. The end product should produce a linear regression graph for viewing for each study. The end product should also include linear regression equation informaiton and R squared for each study. Data for the last 5 years is gathered to get the most accurate results."
   ]
  },
  {
   "cell_type": "markdown",
   "metadata": {},
   "source": [
    "#### Imports:"
   ]
  },
  {
   "cell_type": "code",
   "execution_count": 1,
   "metadata": {},
   "outputs": [],
   "source": [
    "# To use dataframes & view csv file from google\n",
    "import pandas as pd\n",
    "from pandas import Series, DataFrame\n",
    "from pandas.tseries.frequencies import to_offset\n",
    "import numpy as np\n",
    "\n",
    "# To visualize data\n",
    "import matplotlib.pyplot as plt\n",
    "import seaborn as sns\n",
    "sns.set_style('whitegrid')\n",
    "%matplotlib inline\n",
    "\n",
    "from datetime import datetime\n",
    "\n",
    "# To get data from yahoo\n",
    "import pandas_datareader as pdr\n",
    "\n",
    "# To get search data from google\n",
    "import pytrends\n",
    "from pytrends.request import TrendReq\n",
    "\n",
    "# To find linear regression equation and confidence in model\n",
    "import statsmodels.api as sm"
   ]
  },
  {
   "cell_type": "markdown",
   "metadata": {},
   "source": [
    "#### Retrieving data from Yahoo Finance:"
   ]
  },
  {
   "cell_type": "markdown",
   "metadata": {},
   "source": [
    "Retrieved 5 year daily historical stock data from Yahoo."
   ]
  },
  {
   "cell_type": "code",
   "execution_count": 2,
   "metadata": {},
   "outputs": [],
   "source": [
    "stock_list = ['PRPL','TSLA','GOOG']\n",
    "\n",
    "end = datetime.now()\n",
    "start = datetime(end.year - 5,end.month,end.day)\n",
    "\n",
    "# Retrieve the data. Each stock historical data stored under dataframe object named under stock ticker\n",
    "for stock in stock_list:\n",
    "    globals()[stock] = pdr.get_data_yahoo(stock,start,end)"
   ]
  },
  {
   "cell_type": "markdown",
   "metadata": {},
   "source": [
    "#### Viewing Stock Data:"
   ]
  },
  {
   "cell_type": "code",
   "execution_count": 3,
   "metadata": {},
   "outputs": [
    {
     "data": {
      "text/html": [
       "<div>\n",
       "<style scoped>\n",
       "    .dataframe tbody tr th:only-of-type {\n",
       "        vertical-align: middle;\n",
       "    }\n",
       "\n",
       "    .dataframe tbody tr th {\n",
       "        vertical-align: top;\n",
       "    }\n",
       "\n",
       "    .dataframe thead th {\n",
       "        text-align: right;\n",
       "    }\n",
       "</style>\n",
       "<table border=\"1\" class=\"dataframe\">\n",
       "  <thead>\n",
       "    <tr style=\"text-align: right;\">\n",
       "      <th></th>\n",
       "      <th>High</th>\n",
       "      <th>Low</th>\n",
       "      <th>Open</th>\n",
       "      <th>Close</th>\n",
       "      <th>Volume</th>\n",
       "      <th>Adj Close</th>\n",
       "    </tr>\n",
       "    <tr>\n",
       "      <th>Date</th>\n",
       "      <th></th>\n",
       "      <th></th>\n",
       "      <th></th>\n",
       "      <th></th>\n",
       "      <th></th>\n",
       "      <th></th>\n",
       "    </tr>\n",
       "  </thead>\n",
       "  <tbody>\n",
       "    <tr>\n",
       "      <th>2016-10-03</th>\n",
       "      <td>9.64</td>\n",
       "      <td>9.64</td>\n",
       "      <td>9.64</td>\n",
       "      <td>9.64</td>\n",
       "      <td>200</td>\n",
       "      <td>9.64</td>\n",
       "    </tr>\n",
       "    <tr>\n",
       "      <th>2016-10-04</th>\n",
       "      <td>9.83</td>\n",
       "      <td>9.82</td>\n",
       "      <td>9.82</td>\n",
       "      <td>9.83</td>\n",
       "      <td>1600</td>\n",
       "      <td>9.83</td>\n",
       "    </tr>\n",
       "    <tr>\n",
       "      <th>2016-10-05</th>\n",
       "      <td>9.79</td>\n",
       "      <td>9.75</td>\n",
       "      <td>9.79</td>\n",
       "      <td>9.75</td>\n",
       "      <td>400</td>\n",
       "      <td>9.75</td>\n",
       "    </tr>\n",
       "    <tr>\n",
       "      <th>2016-10-06</th>\n",
       "      <td>9.78</td>\n",
       "      <td>9.46</td>\n",
       "      <td>9.78</td>\n",
       "      <td>9.46</td>\n",
       "      <td>300</td>\n",
       "      <td>9.46</td>\n",
       "    </tr>\n",
       "    <tr>\n",
       "      <th>2016-10-07</th>\n",
       "      <td>9.79</td>\n",
       "      <td>9.78</td>\n",
       "      <td>9.78</td>\n",
       "      <td>9.79</td>\n",
       "      <td>400</td>\n",
       "      <td>9.79</td>\n",
       "    </tr>\n",
       "  </tbody>\n",
       "</table>\n",
       "</div>"
      ],
      "text/plain": [
       "            High   Low  Open  Close  Volume  Adj Close\n",
       "Date                                                  \n",
       "2016-10-03  9.64  9.64  9.64   9.64     200       9.64\n",
       "2016-10-04  9.83  9.82  9.82   9.83    1600       9.83\n",
       "2016-10-05  9.79  9.75  9.79   9.75     400       9.75\n",
       "2016-10-06  9.78  9.46  9.78   9.46     300       9.46\n",
       "2016-10-07  9.79  9.78  9.78   9.79     400       9.79"
      ]
     },
     "execution_count": 3,
     "metadata": {},
     "output_type": "execute_result"
    }
   ],
   "source": [
    "PRPL.head()"
   ]
  },
  {
   "cell_type": "markdown",
   "metadata": {},
   "source": [
    "#### Plotting Stock Closing Price Over Time:"
   ]
  },
  {
   "cell_type": "code",
   "execution_count": 4,
   "metadata": {},
   "outputs": [
    {
     "data": {
      "text/plain": [
       "Text(0, 0.5, 'Closing Price')"
      ]
     },
     "execution_count": 4,
     "metadata": {},
     "output_type": "execute_result"
    },
    {
     "data": {
      "image/png": "[encoded data removed]",
      "text/plain": [
       "<Figure size 432x288 with 1 Axes>"
      ]
     },
     "metadata": {
      "needs_background": "light"
     },
     "output_type": "display_data"
    }
   ],
   "source": [
    "PRPL['Close'].plot(color = ('purple'))\n",
    "plt.xlabel('Date')\n",
    "plt.ylabel('Closing Price')"
   ]
  },
  {
   "cell_type": "markdown",
   "metadata": {},
   "source": [
    "#### Function to convert daily stock data to weekly:"
   ]
  },
  {
   "cell_type": "markdown",
   "metadata": {},
   "source": [
    "Function created to easily convert daily stock data to weekly. This data needed to be in weekly form to be consistent with the data pulled from google trends. This makes the concatination of the two dataframes simple and easy. All of the stock data was converted to weekly information, something to note is that the \"Open\" column now contained the stock price on the first day of the week, the \"Close\" and \"Adj Close\" columns now contained the closing stock price for the end of the week. The Volume was a sum of all of the stock trading volume for each day in the week. The weekly data reads exactly the same as it would if you where to look at Yahoo Finance and set it historical stock data to weekly with one exception. The date index must be set to Sunday for each week. Traditionally the date representing the week would be a Wednsday but this had to be changed to remain a consistent date index for the google trends data. None of the data is different, each row would just be for \"The Week of Sunday the X\" instead of \"The Week of Wednsday the X\"."
   ]
  },
  {
   "cell_type": "code",
   "execution_count": 5,
   "metadata": {},
   "outputs": [],
   "source": [
    "def convert_to_weekly(df):\n",
    "    \n",
    "    # Resample all of the data to convert data to weekly\n",
    "    output = df.resample('W').apply(\n",
    "        {'Open': 'first',\n",
    "         'High': 'max',\n",
    "         'Low': 'min',\n",
    "         'Close': 'last',\n",
    "         'Volume': 'sum',\n",
    "         'Adj Close': 'last'})\n",
    "    output.index -= to_offset('7D')\n",
    "    \n",
    "    # Output of the new dataframes\n",
    "    output = output[['Open', 'High', 'Low', 'Close', 'Volume','Adj Close']]\n",
    "    df =  output\n",
    "    return df"
   ]
  },
  {
   "cell_type": "markdown",
   "metadata": {},
   "source": [
    "#### Using function on Stock Data:"
   ]
  },
  {
   "cell_type": "code",
   "execution_count": 6,
   "metadata": {},
   "outputs": [],
   "source": [
    "PRPL = convert_to_weekly(PRPL)\n",
    "TSLA = convert_to_weekly(TSLA)\n",
    "GOOG = convert_to_weekly(GOOG)"
   ]
  },
  {
   "cell_type": "markdown",
   "metadata": {},
   "source": [
    "#### Viewing converted stock data:"
   ]
  },
  {
   "cell_type": "code",
   "execution_count": 7,
   "metadata": {},
   "outputs": [
    {
     "data": {
      "text/html": [
       "<div>\n",
       "<style scoped>\n",
       "    .dataframe tbody tr th:only-of-type {\n",
       "        vertical-align: middle;\n",
       "    }\n",
       "\n",
       "    .dataframe tbody tr th {\n",
       "        vertical-align: top;\n",
       "    }\n",
       "\n",
       "    .dataframe thead th {\n",
       "        text-align: right;\n",
       "    }\n",
       "</style>\n",
       "<table border=\"1\" class=\"dataframe\">\n",
       "  <thead>\n",
       "    <tr style=\"text-align: right;\">\n",
       "      <th></th>\n",
       "      <th>Open</th>\n",
       "      <th>High</th>\n",
       "      <th>Low</th>\n",
       "      <th>Close</th>\n",
       "      <th>Volume</th>\n",
       "      <th>Adj Close</th>\n",
       "    </tr>\n",
       "    <tr>\n",
       "      <th>Date</th>\n",
       "      <th></th>\n",
       "      <th></th>\n",
       "      <th></th>\n",
       "      <th></th>\n",
       "      <th></th>\n",
       "      <th></th>\n",
       "    </tr>\n",
       "  </thead>\n",
       "  <tbody>\n",
       "    <tr>\n",
       "      <th>2016-10-02</th>\n",
       "      <td>774.250000</td>\n",
       "      <td>782.070007</td>\n",
       "      <td>769.500000</td>\n",
       "      <td>775.080017</td>\n",
       "      <td>5945300</td>\n",
       "      <td>775.080017</td>\n",
       "    </tr>\n",
       "    <tr>\n",
       "      <th>2016-10-09</th>\n",
       "      <td>777.710022</td>\n",
       "      <td>792.280029</td>\n",
       "      <td>773.000000</td>\n",
       "      <td>778.530029</td>\n",
       "      <td>5702600</td>\n",
       "      <td>778.530029</td>\n",
       "    </tr>\n",
       "    <tr>\n",
       "      <th>2016-10-16</th>\n",
       "      <td>779.799988</td>\n",
       "      <td>804.599976</td>\n",
       "      <td>777.500000</td>\n",
       "      <td>799.369995</td>\n",
       "      <td>7940400</td>\n",
       "      <td>799.369995</td>\n",
       "    </tr>\n",
       "    <tr>\n",
       "      <th>2016-10-23</th>\n",
       "      <td>804.900024</td>\n",
       "      <td>816.679993</td>\n",
       "      <td>791.500000</td>\n",
       "      <td>795.369995</td>\n",
       "      <td>11940700</td>\n",
       "      <td>795.369995</td>\n",
       "    </tr>\n",
       "    <tr>\n",
       "      <th>2016-10-30</th>\n",
       "      <td>795.469971</td>\n",
       "      <td>796.859985</td>\n",
       "      <td>750.560974</td>\n",
       "      <td>762.020020</td>\n",
       "      <td>10784100</td>\n",
       "      <td>762.020020</td>\n",
       "    </tr>\n",
       "  </tbody>\n",
       "</table>\n",
       "</div>"
      ],
      "text/plain": [
       "                  Open        High         Low       Close    Volume  \\\n",
       "Date                                                                   \n",
       "2016-10-02  774.250000  782.070007  769.500000  775.080017   5945300   \n",
       "2016-10-09  777.710022  792.280029  773.000000  778.530029   5702600   \n",
       "2016-10-16  779.799988  804.599976  777.500000  799.369995   7940400   \n",
       "2016-10-23  804.900024  816.679993  791.500000  795.369995  11940700   \n",
       "2016-10-30  795.469971  796.859985  750.560974  762.020020  10784100   \n",
       "\n",
       "             Adj Close  \n",
       "Date                    \n",
       "2016-10-02  775.080017  \n",
       "2016-10-09  778.530029  \n",
       "2016-10-16  799.369995  \n",
       "2016-10-23  795.369995  \n",
       "2016-10-30  762.020020  "
      ]
     },
     "execution_count": 7,
     "metadata": {},
     "output_type": "execute_result"
    }
   ],
   "source": [
    "GOOG.head()"
   ]
  },
  {
   "cell_type": "markdown",
   "metadata": {},
   "source": [
    "#### Retrieving data from Google Trends using pytrend:\n",
    "\n",
    "The data for search interested was gathered using he pytrend library. The data gathered represents the search interest in a particular search. Here is the description for the data copied from Google Trends:\n",
    "\n",
    "Numbers represent search interest relative to the highest point on the chart for the given region and time. A value of 100 is the peak popularity for the term. A value of 50 means that the term is half as popular. A score of 0 means there was not enough data for this term."
   ]
  },
  {
   "cell_type": "code",
   "execution_count": 8,
   "metadata": {},
   "outputs": [],
   "source": [
    "pytrend = TrendReq()\n",
    "pytrend.build_payload(kw_list=['PRPL','Purple Stock','Purple Stock Price'],\n",
    "     cat=0,\n",
    "     timeframe= 'today 5-y')\n",
    "sPRPL = pytrend.interest_over_time()\n",
    "sPRPL = sPRPL.drop(columns = 'isPartial')"
   ]
  },
  {
   "cell_type": "code",
   "execution_count": 9,
   "metadata": {},
   "outputs": [],
   "source": [
    "pytrend = TrendReq()\n",
    "pytrend.build_payload(kw_list=['TSLA', 'Tesla Stock', 'Tesla Stock Price'],\n",
    "     cat=0,\n",
    "     timeframe= 'today 5-y')\n",
    "sTSLA = pytrend.interest_over_time()\n",
    "sTSLA = sTSLA.drop(columns = 'isPartial')"
   ]
  },
  {
   "cell_type": "code",
   "execution_count": 10,
   "metadata": {},
   "outputs": [],
   "source": [
    "pytrend = TrendReq()\n",
    "pytrend.build_payload(kw_list=['GOOG','Google Stock','Google Stock Price'],\n",
    "     cat=0,\n",
    "     timeframe= 'today 5-y')\n",
    "sGOOG = pytrend.interest_over_time()\n",
    "sGOOG = sGOOG.drop(columns = 'isPartial')"
   ]
  },
  {
   "cell_type": "markdown",
   "metadata": {},
   "source": [
    "#### Plotting search interest data:"
   ]
  },
  {
   "cell_type": "code",
   "execution_count": 11,
   "metadata": {},
   "outputs": [
    {
     "data": {
      "text/plain": [
       "Text(0, 0.5, 'Ticker Search Interest')"
      ]
     },
     "execution_count": 11,
     "metadata": {},
     "output_type": "execute_result"
    },
    {
     "data": {
      "image/png": "[encoded data removed]",
      "text/plain": [
       "<Figure size 432x288 with 1 Axes>"
      ]
     },
     "metadata": {
      "needs_background": "light"
     },
     "output_type": "display_data"
    }
   ],
   "source": [
    "sPRPL['PRPL'].plot(color=('purple'))\n",
    "plt.xlabel('Date')\n",
    "plt.ylabel('Ticker Search Interest')"
   ]
  },
  {
   "cell_type": "markdown",
   "metadata": {},
   "source": [
    "#### Concatinating the two dataframes into one:"
   ]
  },
  {
   "cell_type": "code",
   "execution_count": 12,
   "metadata": {},
   "outputs": [],
   "source": [
    "dfPRPL = pd.concat([PRPL,sPRPL],axis=1)\n",
    "dfTSLA = pd.concat([TSLA,sTSLA],axis=1)\n",
    "dfGOOG = pd.concat([GOOG,sGOOG],axis=1)"
   ]
  },
  {
   "cell_type": "markdown",
   "metadata": {},
   "source": [
    "#### Viewing new datatable:"
   ]
  },
  {
   "cell_type": "code",
   "execution_count": 13,
   "metadata": {},
   "outputs": [
    {
     "data": {
      "text/html": [
       "<div>\n",
       "<style scoped>\n",
       "    .dataframe tbody tr th:only-of-type {\n",
       "        vertical-align: middle;\n",
       "    }\n",
       "\n",
       "    .dataframe tbody tr th {\n",
       "        vertical-align: top;\n",
       "    }\n",
       "\n",
       "    .dataframe thead th {\n",
       "        text-align: right;\n",
       "    }\n",
       "</style>\n",
       "<table border=\"1\" class=\"dataframe\">\n",
       "  <thead>\n",
       "    <tr style=\"text-align: right;\">\n",
       "      <th></th>\n",
       "      <th>Open</th>\n",
       "      <th>High</th>\n",
       "      <th>Low</th>\n",
       "      <th>Close</th>\n",
       "      <th>Volume</th>\n",
       "      <th>Adj Close</th>\n",
       "      <th>PRPL</th>\n",
       "      <th>Purple Stock</th>\n",
       "      <th>Purple Stock Price</th>\n",
       "    </tr>\n",
       "  </thead>\n",
       "  <tbody>\n",
       "    <tr>\n",
       "      <th>2016-10-02</th>\n",
       "      <td>9.64</td>\n",
       "      <td>9.83</td>\n",
       "      <td>9.46</td>\n",
       "      <td>9.79</td>\n",
       "      <td>2900</td>\n",
       "      <td>9.79</td>\n",
       "      <td>0</td>\n",
       "      <td>5</td>\n",
       "      <td>0</td>\n",
       "    </tr>\n",
       "    <tr>\n",
       "      <th>2016-10-09</th>\n",
       "      <td>9.79</td>\n",
       "      <td>9.80</td>\n",
       "      <td>9.79</td>\n",
       "      <td>9.80</td>\n",
       "      <td>900</td>\n",
       "      <td>9.80</td>\n",
       "      <td>6</td>\n",
       "      <td>1</td>\n",
       "      <td>0</td>\n",
       "    </tr>\n",
       "    <tr>\n",
       "      <th>2016-10-16</th>\n",
       "      <td>9.81</td>\n",
       "      <td>9.81</td>\n",
       "      <td>9.80</td>\n",
       "      <td>9.80</td>\n",
       "      <td>1800</td>\n",
       "      <td>9.80</td>\n",
       "      <td>2</td>\n",
       "      <td>2</td>\n",
       "      <td>0</td>\n",
       "    </tr>\n",
       "    <tr>\n",
       "      <th>2016-10-23</th>\n",
       "      <td>9.80</td>\n",
       "      <td>9.80</td>\n",
       "      <td>9.80</td>\n",
       "      <td>9.80</td>\n",
       "      <td>0</td>\n",
       "      <td>9.80</td>\n",
       "      <td>3</td>\n",
       "      <td>3</td>\n",
       "      <td>0</td>\n",
       "    </tr>\n",
       "    <tr>\n",
       "      <th>2016-10-30</th>\n",
       "      <td>9.90</td>\n",
       "      <td>9.90</td>\n",
       "      <td>9.90</td>\n",
       "      <td>9.90</td>\n",
       "      <td>500</td>\n",
       "      <td>9.90</td>\n",
       "      <td>0</td>\n",
       "      <td>12</td>\n",
       "      <td>0</td>\n",
       "    </tr>\n",
       "  </tbody>\n",
       "</table>\n",
       "</div>"
      ],
      "text/plain": [
       "            Open  High   Low  Close  Volume  Adj Close  PRPL  Purple Stock  \\\n",
       "2016-10-02  9.64  9.83  9.46   9.79    2900       9.79     0             5   \n",
       "2016-10-09  9.79  9.80  9.79   9.80     900       9.80     6             1   \n",
       "2016-10-16  9.81  9.81  9.80   9.80    1800       9.80     2             2   \n",
       "2016-10-23  9.80  9.80  9.80   9.80       0       9.80     3             3   \n",
       "2016-10-30  9.90  9.90  9.90   9.90     500       9.90     0            12   \n",
       "\n",
       "            Purple Stock Price  \n",
       "2016-10-02                   0  \n",
       "2016-10-09                   0  \n",
       "2016-10-16                   0  \n",
       "2016-10-23                   0  \n",
       "2016-10-30                   0  "
      ]
     },
     "execution_count": 13,
     "metadata": {},
     "output_type": "execute_result"
    }
   ],
   "source": [
    "dfPRPL.head()"
   ]
  },
  {
   "cell_type": "markdown",
   "metadata": {},
   "source": [
    "#### Converting the data and cleaning it up:"
   ]
  },
  {
   "cell_type": "markdown",
   "metadata": {},
   "source": [
    "For the data I would like to view, my hypothesis is that heavy search interest in a stock price for a certain week will also mean a high percentage change in the stock. These percentage changes could be reflected as both positive or negative, but since for the purposes of this project I am only looking for high percentage changes (positive or negative), I will change those values to absolute values. This code creates a column that records the return using pct_change and then converts an absolute value stored under column Absolute_Pct_Change.\n",
    "\n",
    "The dropna() is to drop null values in order to clean up the data.\n",
    "\n",
    "Another thing I did was take the mean of the search interest values. I need 1 value to compare search interest to changes in stock price and traded stock volume."
   ]
  },
  {
   "cell_type": "code",
   "execution_count": 14,
   "metadata": {},
   "outputs": [],
   "source": [
    "#Creating Return and Absolute_Pct_Change Columns\n",
    "dfPRPL['Return'] = dfPRPL['Adj Close'].pct_change()\n",
    "dfPRPL['Absolute_Pct_Change'] = dfPRPL['Return'].abs()\n",
    "\n",
    "dfTSLA['Return'] = dfTSLA['Adj Close'].pct_change()\n",
    "dfTSLA['Absolute_Pct_Change'] = dfTSLA['Return'].abs()\n",
    "\n",
    "dfGOOG['Return'] = dfGOOG['Adj Close'].pct_change()\n",
    "dfGOOG['Absolute_Pct_Change'] = dfGOOG['Return'].abs()\n",
    "\n",
    "#Cleaning up null values\n",
    "dfPRPL = dfPRPL.dropna()\n",
    "dfTSLA = dfTSLA.dropna()\n",
    "dfGOOG = dfGOOG.dropna()\n",
    "\n",
    "#Creating Average_Search_Interest column\n",
    "dfPRPL['Average_Search_Interest'] = ((dfPRPL['PRPL'] + dfPRPL['Purple Stock'] + dfPRPL['Purple Stock Price'])/3)\n",
    "dfTSLA['Average_Search_Interest'] = ((dfTSLA['TSLA'] + dfTSLA['Tesla Stock'] + dfTSLA['Tesla Stock Price'])/3)\n",
    "dfGOOG['Average_Search_Interest'] = ((dfGOOG['GOOG'] + dfGOOG['Google Stock'] + dfGOOG['Google Stock Price'])/3)"
   ]
  },
  {
   "cell_type": "markdown",
   "metadata": {},
   "source": [
    "#### Viewing the final data to be analyzed:"
   ]
  },
  {
   "cell_type": "code",
   "execution_count": 15,
   "metadata": {},
   "outputs": [
    {
     "data": {
      "text/html": [
       "<div>\n",
       "<style scoped>\n",
       "    .dataframe tbody tr th:only-of-type {\n",
       "        vertical-align: middle;\n",
       "    }\n",
       "\n",
       "    .dataframe tbody tr th {\n",
       "        vertical-align: top;\n",
       "    }\n",
       "\n",
       "    .dataframe thead th {\n",
       "        text-align: right;\n",
       "    }\n",
       "</style>\n",
       "<table border=\"1\" class=\"dataframe\">\n",
       "  <thead>\n",
       "    <tr style=\"text-align: right;\">\n",
       "      <th></th>\n",
       "      <th>Open</th>\n",
       "      <th>High</th>\n",
       "      <th>Low</th>\n",
       "      <th>Close</th>\n",
       "      <th>Volume</th>\n",
       "      <th>Adj Close</th>\n",
       "      <th>GOOG</th>\n",
       "      <th>Google Stock</th>\n",
       "      <th>Google Stock Price</th>\n",
       "      <th>Return</th>\n",
       "      <th>Absolute_Pct_Change</th>\n",
       "      <th>Average_Search_Interest</th>\n",
       "    </tr>\n",
       "  </thead>\n",
       "  <tbody>\n",
       "    <tr>\n",
       "      <th>2016-10-09</th>\n",
       "      <td>777.710022</td>\n",
       "      <td>792.280029</td>\n",
       "      <td>773.000000</td>\n",
       "      <td>778.530029</td>\n",
       "      <td>5702600</td>\n",
       "      <td>778.530029</td>\n",
       "      <td>92</td>\n",
       "      <td>18</td>\n",
       "      <td>3</td>\n",
       "      <td>0.004451</td>\n",
       "      <td>0.004451</td>\n",
       "      <td>37.666667</td>\n",
       "    </tr>\n",
       "    <tr>\n",
       "      <th>2016-10-16</th>\n",
       "      <td>779.799988</td>\n",
       "      <td>804.599976</td>\n",
       "      <td>777.500000</td>\n",
       "      <td>799.369995</td>\n",
       "      <td>7940400</td>\n",
       "      <td>799.369995</td>\n",
       "      <td>94</td>\n",
       "      <td>23</td>\n",
       "      <td>4</td>\n",
       "      <td>0.026768</td>\n",
       "      <td>0.026768</td>\n",
       "      <td>40.333333</td>\n",
       "    </tr>\n",
       "    <tr>\n",
       "      <th>2016-10-23</th>\n",
       "      <td>804.900024</td>\n",
       "      <td>816.679993</td>\n",
       "      <td>791.500000</td>\n",
       "      <td>795.369995</td>\n",
       "      <td>11940700</td>\n",
       "      <td>795.369995</td>\n",
       "      <td>100</td>\n",
       "      <td>24</td>\n",
       "      <td>4</td>\n",
       "      <td>-0.005004</td>\n",
       "      <td>0.005004</td>\n",
       "      <td>42.666667</td>\n",
       "    </tr>\n",
       "    <tr>\n",
       "      <th>2016-10-30</th>\n",
       "      <td>795.469971</td>\n",
       "      <td>796.859985</td>\n",
       "      <td>750.560974</td>\n",
       "      <td>762.020020</td>\n",
       "      <td>10784100</td>\n",
       "      <td>762.020020</td>\n",
       "      <td>92</td>\n",
       "      <td>20</td>\n",
       "      <td>4</td>\n",
       "      <td>-0.041930</td>\n",
       "      <td>0.041930</td>\n",
       "      <td>38.666667</td>\n",
       "    </tr>\n",
       "    <tr>\n",
       "      <th>2016-11-06</th>\n",
       "      <td>774.500000</td>\n",
       "      <td>795.632996</td>\n",
       "      <td>750.380005</td>\n",
       "      <td>754.020020</td>\n",
       "      <td>12736100</td>\n",
       "      <td>754.020020</td>\n",
       "      <td>95</td>\n",
       "      <td>30</td>\n",
       "      <td>4</td>\n",
       "      <td>-0.010498</td>\n",
       "      <td>0.010498</td>\n",
       "      <td>43.000000</td>\n",
       "    </tr>\n",
       "  </tbody>\n",
       "</table>\n",
       "</div>"
      ],
      "text/plain": [
       "                  Open        High         Low       Close    Volume  \\\n",
       "2016-10-09  777.710022  792.280029  773.000000  778.530029   5702600   \n",
       "2016-10-16  779.799988  804.599976  777.500000  799.369995   7940400   \n",
       "2016-10-23  804.900024  816.679993  791.500000  795.369995  11940700   \n",
       "2016-10-30  795.469971  796.859985  750.560974  762.020020  10784100   \n",
       "2016-11-06  774.500000  795.632996  750.380005  754.020020  12736100   \n",
       "\n",
       "             Adj Close  GOOG  Google Stock  Google Stock Price    Return  \\\n",
       "2016-10-09  778.530029    92            18                   3  0.004451   \n",
       "2016-10-16  799.369995    94            23                   4  0.026768   \n",
       "2016-10-23  795.369995   100            24                   4 -0.005004   \n",
       "2016-10-30  762.020020    92            20                   4 -0.041930   \n",
       "2016-11-06  754.020020    95            30                   4 -0.010498   \n",
       "\n",
       "            Absolute_Pct_Change  Average_Search_Interest  \n",
       "2016-10-09             0.004451                37.666667  \n",
       "2016-10-16             0.026768                40.333333  \n",
       "2016-10-23             0.005004                42.666667  \n",
       "2016-10-30             0.041930                38.666667  \n",
       "2016-11-06             0.010498                43.000000  "
      ]
     },
     "execution_count": 15,
     "metadata": {},
     "output_type": "execute_result"
    }
   ],
   "source": [
    "dfGOOG.head()"
   ]
  },
  {
   "cell_type": "markdown",
   "metadata": {},
   "source": [
    "#### Viewing regression plots for search interest and absolute percent change:"
   ]
  },
  {
   "cell_type": "code",
   "execution_count": 16,
   "metadata": {},
   "outputs": [
    {
     "data": {
      "text/plain": [
       "<AxesSubplot:xlabel='Average_Search_Interest', ylabel='Absolute_Pct_Change'>"
      ]
     },
     "execution_count": 16,
     "metadata": {},
     "output_type": "execute_result"
    },
    {
     "data": {
      "image/png": "[encoded data removed]",
      "text/plain": [
       "<Figure size 432x288 with 1 Axes>"
      ]
     },
     "metadata": {
      "needs_background": "light"
     },
     "output_type": "display_data"
    }
   ],
   "source": [
    "sns.regplot(x = dfPRPL['Average_Search_Interest'], y = dfPRPL['Absolute_Pct_Change'], color = 'purple')"
   ]
  },
  {
   "cell_type": "code",
   "execution_count": 17,
   "metadata": {},
   "outputs": [
    {
     "data": {
      "text/plain": [
       "<AxesSubplot:xlabel='Average_Search_Interest', ylabel='Absolute_Pct_Change'>"
      ]
     },
     "execution_count": 17,
     "metadata": {},
     "output_type": "execute_result"
    },
    {
     "data": {
      "image/png": "[encoded data removed]",
      "text/plain": [
       "<Figure size 432x288 with 1 Axes>"
      ]
     },
     "metadata": {
      "needs_background": "light"
     },
     "output_type": "display_data"
    }
   ],
   "source": [
    "sns.regplot( x = dfTSLA['Average_Search_Interest'], y = dfTSLA['Absolute_Pct_Change'], color = 'red')"
   ]
  },
  {
   "cell_type": "code",
   "execution_count": 18,
   "metadata": {},
   "outputs": [
    {
     "data": {
      "text/plain": [
       "<AxesSubplot:xlabel='Average_Search_Interest', ylabel='Absolute_Pct_Change'>"
      ]
     },
     "execution_count": 18,
     "metadata": {},
     "output_type": "execute_result"
    },
    {
     "data": {
      "image/png": "[encoded data removed]",
      "text/plain": [
       "<Figure size 432x288 with 1 Axes>"
      ]
     },
     "metadata": {
      "needs_background": "light"
     },
     "output_type": "display_data"
    }
   ],
   "source": [
    "sns.regplot(x = dfGOOG['Average_Search_Interest'], y = dfGOOG['Absolute_Pct_Change'], color = 'green')"
   ]
  },
  {
   "cell_type": "markdown",
   "metadata": {},
   "source": [
    "#### Viewing regression plots for search interest and trading volume:"
   ]
  },
  {
   "cell_type": "code",
   "execution_count": 19,
   "metadata": {
    "scrolled": true
   },
   "outputs": [
    {
     "data": {
      "text/plain": [
       "<AxesSubplot:xlabel='Average_Search_Interest', ylabel='Volume'>"
      ]
     },
     "execution_count": 19,
     "metadata": {},
     "output_type": "execute_result"
    },
    {
     "data": {
      "image/png": "[encoded data removed]",
      "text/plain": [
       "<Figure size 432x288 with 1 Axes>"
      ]
     },
     "metadata": {
      "needs_background": "light"
     },
     "output_type": "display_data"
    }
   ],
   "source": [
    "sns.regplot(x = dfPRPL['Average_Search_Interest'], y = dfPRPL['Volume'], color = 'purple')"
   ]
  },
  {
   "cell_type": "code",
   "execution_count": 20,
   "metadata": {},
   "outputs": [
    {
     "data": {
      "text/plain": [
       "<AxesSubplot:xlabel='Average_Search_Interest', ylabel='Volume'>"
      ]
     },
     "execution_count": 20,
     "metadata": {},
     "output_type": "execute_result"
    },
    {
     "data": {
      "image/png": "[encoded data removed]",
      "text/plain": [
       "<Figure size 432x288 with 1 Axes>"
      ]
     },
     "metadata": {
      "needs_background": "light"
     },
     "output_type": "display_data"
    }
   ],
   "source": [
    "sns.regplot(x = dfTSLA['Average_Search_Interest'], y = dfTSLA['Volume'], color = 'red')"
   ]
  },
  {
   "cell_type": "code",
   "execution_count": 21,
   "metadata": {},
   "outputs": [
    {
     "data": {
      "text/plain": [
       "<AxesSubplot:xlabel='Average_Search_Interest', ylabel='Volume'>"
      ]
     },
     "execution_count": 21,
     "metadata": {},
     "output_type": "execute_result"
    },
    {
     "data": {
      "image/png": "[encoded data removed]",
      "text/plain": [
       "<Figure size 432x288 with 1 Axes>"
      ]
     },
     "metadata": {
      "needs_background": "light"
     },
     "output_type": "display_data"
    }
   ],
   "source": [
    "sns.regplot(x = dfGOOG['Average_Search_Interest'], y = dfGOOG['Volume'], color = 'green')"
   ]
  },
  {
   "cell_type": "markdown",
   "metadata": {},
   "source": [
    "#### Creating Statistical Models:\n",
    "\n",
    "This code is creating a statistical OLS model in order to get the necessary values to return linear regression equations and the coefficient of determination (R^2)."
   ]
  },
  {
   "cell_type": "code",
   "execution_count": 22,
   "metadata": {},
   "outputs": [],
   "source": [
    "modelSPRPL = sm.OLS(dfPRPL['Absolute_Pct_Change'], dfPRPL['Average_Search_Interest'])\n",
    "modelSPRPL = modelSPRPL.fit()\n",
    "\n",
    "modelSTSLA = sm.OLS(dfTSLA['Absolute_Pct_Change'], dfTSLA['Average_Search_Interest'])\n",
    "modelSTSLA = modelSTSLA.fit()\n",
    "\n",
    "modelSGOOG = sm.OLS(dfGOOG['Absolute_Pct_Change'], dfGOOG['Average_Search_Interest'])\n",
    "modelSGOOG = modelSGOOG.fit()\n",
    "\n",
    "modelVPRPL = sm.OLS(dfPRPL['Volume'], dfPRPL['Average_Search_Interest'])\n",
    "modelVPRPL = modelVPRPL.fit()\n",
    "\n",
    "modelVTSLA = sm.OLS(dfTSLA['Volume'], dfTSLA['Average_Search_Interest'])\n",
    "modelVTSLA = modelVTSLA.fit()\n",
    "\n",
    "modelVGOOG = sm.OLS(dfGOOG['Volume'], dfGOOG['Average_Search_Interest'])\n",
    "modelVGOOG = modelVGOOG.fit()\n",
    "\n",
    "models = [modelSPRPL,modelSTSLA,modelSGOOG,modelVPRPL,modelVTSLA,modelVGOOG]"
   ]
  },
  {
   "cell_type": "markdown",
   "metadata": {},
   "source": [
    "#### Function to properly display regression equation information and R squared:"
   ]
  },
  {
   "cell_type": "code",
   "execution_count": 23,
   "metadata": {},
   "outputs": [],
   "source": [
    "def displayRegression(model,Title):\n",
    "    print(Title)\n",
    "    print(model.params)\n",
    "    print('Adj R Squared:', model.rsquared_adj)\n",
    "    print('P Value: ', model.pvalues)\n",
    "    print()"
   ]
  },
  {
   "cell_type": "markdown",
   "metadata": {},
   "source": [
    "#### Viewing regression information:"
   ]
  },
  {
   "cell_type": "code",
   "execution_count": 24,
   "metadata": {},
   "outputs": [
    {
     "name": "stdout",
     "output_type": "stream",
     "text": [
      "Search Interest and Absolute Percent Change: PRPL\n",
      "Average_Search_Interest    0.007941\n",
      "dtype: float64\n",
      "Adj R Squared: 0.3235014840148047\n",
      "P Value:  Average_Search_Interest    5.465721e-24\n",
      "dtype: float64\n",
      "\n",
      "Search Interest and Absolute Percent Change: TSLA\n",
      "Average_Search_Interest    0.004225\n",
      "dtype: float64\n",
      "Adj R Squared: 0.5089015997955988\n",
      "P Value:  Average_Search_Interest    4.253675e-42\n",
      "dtype: float64\n",
      "\n",
      "Search Interest and Absolute Percent Change: GOOG\n",
      "Average_Search_Interest    0.000848\n",
      "dtype: float64\n",
      "Adj R Squared: 0.5784260818102982\n",
      "P Value:  Average_Search_Interest    1.038394e-50\n",
      "dtype: float64\n",
      "\n",
      "Search Interest and Volume: PRPL\n",
      "Average_Search_Interest    405059.108109\n",
      "dtype: float64\n",
      "Adj R Squared: 0.5462064072642974\n",
      "P Value:  Average_Search_Interest    1.481038e-46\n",
      "dtype: float64\n",
      "\n",
      "Search Interest and Volume: TSLA\n",
      "Average_Search_Interest    1.409949e+07\n",
      "dtype: float64\n",
      "Adj R Squared: 0.6535716033009695\n",
      "P Value:  Average_Search_Interest    8.894606e-62\n",
      "dtype: float64\n",
      "\n",
      "Search Interest and Volume: GOOG\n",
      "Average_Search_Interest    255444.612943\n",
      "dtype: float64\n",
      "Adj R Squared: 0.9252228868058946\n",
      "P Value:  Average_Search_Interest    4.444914e-148\n",
      "dtype: float64\n",
      "\n"
     ]
    }
   ],
   "source": [
    "displayRegression(modelSPRPL,'Search Interest and Absolute Percent Change: PRPL')\n",
    "displayRegression(modelSTSLA,'Search Interest and Absolute Percent Change: TSLA')\n",
    "displayRegression(modelSGOOG,'Search Interest and Absolute Percent Change: GOOG')\n",
    "displayRegression(modelVPRPL,'Search Interest and Volume: PRPL')\n",
    "displayRegression(modelVTSLA,'Search Interest and Volume: TSLA')\n",
    "displayRegression(modelVGOOG,'Search Interest and Volume: GOOG')"
   ]
  },
  {
   "cell_type": "markdown",
   "metadata": {},
   "source": [
    "# Conclusion:\n",
    "\n",
    "The results of studying these three stocks have come to show me that in most cases their appears to be a positive linear relationship between search interest and stock trading volume as well as search interest and absolute percent change in a stocks price. The greatest R squared among these is currently the relationship between search interest and stock trading volume for GOOG. The parameters as of 10/01/2021 are ~255444.61x. This means for each 1 score in stock interest rising there is about 255,445 stocks or options traded according to the model. That of course is with an adjusted R squared of .925, but still it gives us a little understanding of how these things correlate. It would make sense too that higher number of people searching these terms would result in a higher level of trading value. \n",
    "\n",
    "This project has been attempt to showcase my ability to manipulate, visualize, and analyze data using python. Thank you for reading."
   ]
  }
 ],
 "metadata": {
  "kernelspec": {
   "display_name": "Python 3",
   "language": "python",
   "name": "python3"
  },
  "language_info": {
   "codemirror_mode": {
    "name": "ipython",
    "version": 3
   },
   "file_extension": ".py",
   "mimetype": "text/x-python",
   "name": "python",
   "nbconvert_exporter": "python",
   "pygments_lexer": "ipython3",
   "version": "3.8.8"
  }
 },
 "nbformat": 4,
 "nbformat_minor": 4
}
